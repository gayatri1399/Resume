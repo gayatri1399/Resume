{
 "cells": [
  {
   "cell_type": "markdown",
   "id": "ec240f08",
   "metadata": {},
   "source": [
    "# Write a Python function to find the Max of three numbers\n"
   ]
  },
  {
   "cell_type": "code",
   "execution_count": null,
   "id": "5623f51d",
   "metadata": {},
   "outputs": [],
   "source": [
    "def maximum(a,b,c):\n",
    "    if a>b and a>b:\n",
    "        print('a is greater')\n",
    "    elif b>c:\n",
    "        print('b is greater')\n",
    "    else:\n",
    "        print('c is greater')\n",
    "maximum(10,12,3)  "
   ]
  },
  {
   "cell_type": "code",
   "execution_count": null,
   "id": "43de011e",
   "metadata": {},
   "outputs": [],
   "source": [
    "def maximum(a,b,c):\n",
    "    if a>b and a>b:\n",
    "        return 'a is greater'\n",
    "    elif b>c:\n",
    "        return 'b is greater'\n",
    "    else:\n",
    "        return 'c is greater'\n",
    "maximum(10,12,3)  "
   ]
  },
  {
   "cell_type": "markdown",
   "id": "32528660",
   "metadata": {},
   "source": [
    "# Write a Python function to sum all the numbers in a list."
   ]
  },
  {
   "cell_type": "code",
   "execution_count": null,
   "id": "43104d4a",
   "metadata": {},
   "outputs": [],
   "source": [
    "def suml(x):\n",
    "    sum=0\n",
    "    for i in x:\n",
    "        sum=sum+i\n",
    "    print(sum)\n",
    "x=[1,2,3,4,5]\n",
    "suml(x)"
   ]
  },
  {
   "cell_type": "markdown",
   "id": "7cdfd344",
   "metadata": {},
   "source": [
    "# Write a Python function to multiply all the numbers in a list."
   ]
  },
  {
   "cell_type": "code",
   "execution_count": null,
   "id": "b9ab772f",
   "metadata": {},
   "outputs": [],
   "source": [
    "def mult(x):\n",
    "    mul=1\n",
    "    for i in x:\n",
    "        mul*=i\n",
    "    print(mul)\n",
    "x=[1,2,3,4,5]\n",
    "mult(x)"
   ]
  },
  {
   "cell_type": "markdown",
   "id": "c47bf185",
   "metadata": {},
   "source": [
    "# Write a Python program to reverse a string"
   ]
  },
  {
   "cell_type": "code",
   "execution_count": null,
   "id": "6b5d9f21",
   "metadata": {},
   "outputs": [],
   "source": [
    "def string(x):\n",
    "    y=x[::-1]\n",
    "    return y\n",
    "string('abdh')"
   ]
  },
  {
   "cell_type": "code",
   "execution_count": null,
   "id": "eb3f921d",
   "metadata": {},
   "outputs": [],
   "source": [
    "def string(x):\n",
    "    s=''\n",
    "    for i in range(len(x)-1,-1,-1):\n",
    "        s=s+str(x[i])\n",
    "    print(s)\n",
    "string('gayatri')"
   ]
  },
  {
   "cell_type": "markdown",
   "id": "3e8e3acf",
   "metadata": {},
   "source": [
    "# Write a Python function to calculate the factorial of a number (a non-negative integer). The function accepts the number as an argument"
   ]
  },
  {
   "cell_type": "code",
   "execution_count": null,
   "id": "cde23862",
   "metadata": {},
   "outputs": [],
   "source": [
    "def fact(n):\n",
    "    fact=1\n",
    "    if n==1or n==0:\n",
    "        return 1\n",
    "    if n<0:\n",
    "        return 'Invalid input'\n",
    "    if n>1:\n",
    "        for i in range(1,n+1):\n",
    "            fact=fact*i\n",
    "        return fact\n",
    "fact(3)"
   ]
  },
  {
   "cell_type": "markdown",
   "id": "628616d1",
   "metadata": {},
   "source": [
    "# Write a Python function to check whether a number falls in a given range\n"
   ]
  },
  {
   "cell_type": "code",
   "execution_count": null,
   "id": "adc6239a",
   "metadata": {},
   "outputs": [],
   "source": [
    "def given_range(start,end,num):\n",
    "    l=[]\n",
    "    for i in range(start,end+1):\n",
    "        l.append(i)\n",
    "    if num in l:\n",
    "        return 'The number falls in given range'\n",
    "    return 'The number is not in given range'\n",
    "start=int(input('Enter the number from where you want to start :'))\n",
    "end=int(input('Enter the last range :'))\n",
    "num=int(input('Enter the number you want to search :'))\n",
    "given_range(start,end,num)"
   ]
  },
  {
   "cell_type": "markdown",
   "id": "14b2a30a",
   "metadata": {},
   "source": [
    "# Write a Python function that accepts a string and calculate the number of upper case letters and lower case letters"
   ]
  },
  {
   "cell_type": "code",
   "execution_count": null,
   "id": "4567398f",
   "metadata": {},
   "outputs": [],
   "source": [
    "def case(string):\n",
    "    upper_count=0\n",
    "    lower_count=0\n",
    "    for i in string:\n",
    "        if i.isupper():\n",
    "            upper_count+=1\n",
    "        else:\n",
    "            lower_count+=1\n",
    "    return 'The upper count is :'+str(upper_count)+' and The lower count is :'+str(lower_count)\n",
    "print(case('Gayatri') )           "
   ]
  },
  {
   "cell_type": "markdown",
   "id": "3bd07104",
   "metadata": {},
   "source": [
    "# Write a Python function that takes a list and returns a new list with unique elements of the first list\n"
   ]
  },
  {
   "cell_type": "code",
   "execution_count": null,
   "id": "c2cda8a9",
   "metadata": {},
   "outputs": [],
   "source": [
    "a=list(map(int,input().split()))\n",
    "def unique(a):\n",
    "    b=set(a)\n",
    "    return list(b)\n",
    "unique(a)"
   ]
  },
  {
   "cell_type": "markdown",
   "id": "e2cc45ca",
   "metadata": {},
   "source": [
    "# Write a Python function that takes a number as a parameter and check the number is prime or not"
   ]
  },
  {
   "cell_type": "code",
   "execution_count": null,
   "id": "67dc13ab",
   "metadata": {},
   "outputs": [],
   "source": [
    "def prime(n):\n",
    "    if n==1:\n",
    "        return '1 is neither prime nor composite'\n",
    "    elif n>1:\n",
    "        for i in range(2,n):\n",
    "            if n%i==0:\n",
    "                print('The number is not prime')\n",
    "                break\n",
    "        else:\n",
    "            print('The number is prime')\n",
    "    else:\n",
    "        return 'The given number is prime'\n",
    "    \n",
    "prime(3)          "
   ]
  },
  {
   "cell_type": "markdown",
   "id": "af3ecdac",
   "metadata": {},
   "source": [
    "# Write a Python program to print the even numbers from a given list."
   ]
  },
  {
   "cell_type": "code",
   "execution_count": null,
   "id": "4119dba7",
   "metadata": {},
   "outputs": [],
   "source": [
    "l=list(range(1,10))\n",
    "def even_list(l1):\n",
    "    even=[]\n",
    "    for i in l1:\n",
    "        if i%2==0:\n",
    "            even.append(i)\n",
    "    return even\n",
    "            \n",
    "even_list(l)    "
   ]
  },
  {
   "cell_type": "markdown",
   "id": "b9ce1fa8",
   "metadata": {},
   "source": [
    "# Write a Python function that checks whether a passed string is palindrome or not.\n"
   ]
  },
  {
   "cell_type": "code",
   "execution_count": null,
   "id": "3562bd44",
   "metadata": {},
   "outputs": [],
   "source": [
    "s=input('Enter a string :')\n",
    "def pallin(string):\n",
    "    if string==string[::-1]:\n",
    "        return 'The given string is pallindrome'\n",
    "    return 'The given string is not pallindrome'\n",
    "print(pallin(s))"
   ]
  },
  {
   "cell_type": "markdown",
   "id": "453dc504",
   "metadata": {},
   "source": [
    "# Write a Python function to create and print a list where the values are square of numbers between 1 and 30 (both included)"
   ]
  },
  {
   "cell_type": "code",
   "execution_count": null,
   "id": "e70729cd",
   "metadata": {},
   "outputs": [],
   "source": [
    "def square(start,end):\n",
    "    l=[]\n",
    "    for i in range(start,end+1):\n",
    "        l.append(i**2)\n",
    "    return l\n",
    "square(1,30)"
   ]
  },
  {
   "cell_type": "markdown",
   "id": "37a57583",
   "metadata": {},
   "source": [
    "# Write a Python program to access a function inside a function.\n"
   ]
  },
  {
   "cell_type": "markdown",
   "id": "4174a9cb",
   "metadata": {},
   "source": [
    "# Write a program to create a function that takes two arguments, name and age, and print their value"
   ]
  },
  {
   "cell_type": "code",
   "execution_count": null,
   "id": "7a5d8392",
   "metadata": {},
   "outputs": [],
   "source": [
    "def prog(name,age):\n",
    "    print('The name is:'+str(name)+ ' and the age is :'+str(age))\n",
    "prog('Gayatri',21)"
   ]
  },
  {
   "cell_type": "markdown",
   "id": "69f6b9a3",
   "metadata": {},
   "source": [
    "# Write a program to create function func1() to accept a variable length of arguments and print their value"
   ]
  },
  {
   "cell_type": "markdown",
   "id": "7a00b977",
   "metadata": {},
   "source": [
    "# Write a program to create function calculation() such that it can accept two variables and calculate addition and subtraction. Also, it must return both addition and subtraction in a single return call.\n"
   ]
  },
  {
   "cell_type": "code",
   "execution_count": null,
   "id": "75192bb0",
   "metadata": {},
   "outputs": [],
   "source": [
    "def add_sub(a,b):\n",
    "    return a+b, a-b\n",
    "add_sub(20,10)"
   ]
  },
  {
   "cell_type": "markdown",
   "id": "90d0a500",
   "metadata": {},
   "source": [
    "# Write a program to create a function show_employee() using the following conditions.\n",
    "1. It should accept the employee’s name and salary and display both. \n",
    "2. If the salary is missing in the function call then assign default value 9000 to salary\n"
   ]
  },
  {
   "cell_type": "markdown",
   "id": "be1ebf60",
   "metadata": {},
   "source": [
    "# Create an inner function to calculate the addition in the following way : \n",
    "1. Create an outer function that will accept two parameters, a and b . \n",
    "2. Create an inner function inside an outer function that will calculate the addition of a and b \n",
    "3. At last, an outer function will add 5 into addition and return it\n"
   ]
  },
  {
   "cell_type": "code",
   "execution_count": null,
   "id": "f8223d10",
   "metadata": {},
   "outputs": [],
   "source": [
    "def outer(a,b):\n",
    "    def inner(a,b):\n",
    "        return a+b\n",
    "    return inner(a,b)+5\n",
    "outer(5,10)"
   ]
  },
  {
   "cell_type": "markdown",
   "id": "72768491",
   "metadata": {},
   "source": [
    "# Write a python function that Generate a Python list of all the even numbers between 4 to 30\n"
   ]
  },
  {
   "cell_type": "code",
   "execution_count": null,
   "id": "29265304",
   "metadata": {},
   "outputs": [],
   "source": [
    "def even_list(start,end):\n",
    "    l=[]\n",
    "    for i in range(start,end+1):\n",
    "        if i%2==0:\n",
    "            l.append(i)\n",
    "    return l\n",
    "even_list(4,30)"
   ]
  },
  {
   "cell_type": "markdown",
   "id": "1fd2b208",
   "metadata": {},
   "source": [
    "# Write a python function that Find the largest item from a given list\n"
   ]
  },
  {
   "cell_type": "code",
   "execution_count": null,
   "id": "a604d0f2",
   "metadata": {},
   "outputs": [],
   "source": [
    "def max(l1):\n",
    "    maximum=l1[0]\n",
    "    for i in l1:\n",
    "        if i>maximum:\n",
    "            maximum=i\n",
    "    return maximum\n",
    "\n",
    "max([42,10,5,2,300])   "
   ]
  },
  {
   "cell_type": "markdown",
   "id": "23139fea",
   "metadata": {},
   "source": [
    "# Define a function that accepts 2 values and return its sum, subtraction and multiplication"
   ]
  },
  {
   "cell_type": "code",
   "execution_count": null,
   "id": "ebb8d4ab",
   "metadata": {},
   "outputs": [],
   "source": [
    "def fun(a,b):\n",
    "    add=a+b\n",
    "    sub=a-b\n",
    "    mul=a*b\n",
    "    return add,sub,mul\n",
    "fun(4,2)"
   ]
  },
  {
   "cell_type": "code",
   "execution_count": null,
   "id": "0541464d",
   "metadata": {},
   "outputs": [],
   "source": []
  },
  {
   "cell_type": "code",
   "execution_count": null,
   "id": "39fcc2c9",
   "metadata": {},
   "outputs": [],
   "source": []
  },
  {
   "cell_type": "code",
   "execution_count": null,
   "id": "88038888",
   "metadata": {},
   "outputs": [],
   "source": []
  },
  {
   "cell_type": "code",
   "execution_count": null,
   "id": "a6fd5278",
   "metadata": {},
   "outputs": [],
   "source": []
  },
  {
   "cell_type": "code",
   "execution_count": null,
   "id": "fe0434e8",
   "metadata": {},
   "outputs": [],
   "source": []
  },
  {
   "cell_type": "code",
   "execution_count": null,
   "id": "8d35ffe5",
   "metadata": {},
   "outputs": [],
   "source": []
  },
  {
   "cell_type": "markdown",
   "id": "efd4f86d",
   "metadata": {},
   "source": [
    "# Write a Function that will check weather a given number is armstrong or not"
   ]
  },
  {
   "cell_type": "code",
   "execution_count": null,
   "id": "67f0d5ef",
   "metadata": {},
   "outputs": [],
   "source": [
    "def armstrong(n):\n",
    "    m=n\n",
    "    i=0\n",
    "    sum=0\n",
    "    while n!=0:\n",
    "        rem=n%10\n",
    "        sum=sum+rem**3\n",
    "        n=n//10\n",
    "        i=i+1\n",
    "    \n",
    "    if m==sum:\n",
    "        return 'Armstrong'\n",
    "    else:\n",
    "        return 'Not Armstrong'\n",
    "    \n",
    "armstrong(153)"
   ]
  },
  {
   "cell_type": "markdown",
   "id": "24a05eaa",
   "metadata": {},
   "source": [
    "# Write a Function that will check weather a given number is Strong or not\n"
   ]
  },
  {
   "cell_type": "code",
   "execution_count": 5,
   "id": "b5555771",
   "metadata": {},
   "outputs": [
    {
     "data": {
      "text/plain": [
       "'strong'"
      ]
     },
     "execution_count": 5,
     "metadata": {},
     "output_type": "execute_result"
    }
   ],
   "source": [
    "import math\n",
    "def strong(n):\n",
    "    m=n\n",
    "    i=0\n",
    "    sum=0\n",
    "    while n!=0:\n",
    "        rem=n%10\n",
    "        sum=sum+math.factorial(rem)\n",
    "        n=n//10\n",
    "        i=i+1\n",
    "    \n",
    "    if m==sum:\n",
    "        return 'strong'\n",
    "    else:\n",
    "        return 'Not strong'\n",
    "    \n",
    "strong(145)"
   ]
  },
  {
   "cell_type": "markdown",
   "id": "a3dfe887",
   "metadata": {},
   "source": [
    "# Write a Function that will check weather a given number is Perfect or not\n"
   ]
  },
  {
   "cell_type": "code",
   "execution_count": 4,
   "id": "3ce5a0b9",
   "metadata": {},
   "outputs": [
    {
     "data": {
      "text/plain": [
       "'Not perfect'"
      ]
     },
     "execution_count": 4,
     "metadata": {},
     "output_type": "execute_result"
    }
   ],
   "source": [
    "def perfect(n):\n",
    "    l=[]\n",
    "    for i in range(1,n):\n",
    "        if n%i==0:\n",
    "            l.append(i)\n",
    "    if sum(l)==n:\n",
    "        return 'Prefect'\n",
    "    else:\n",
    "        return 'Not perfect'\n",
    "\n",
    "perfect(10)\n",
    "    "
   ]
  },
  {
   "cell_type": "code",
   "execution_count": 22,
   "id": "bc7d3791",
   "metadata": {},
   "outputs": [
    {
     "data": {
      "text/plain": [
       "7"
      ]
     },
     "execution_count": 22,
     "metadata": {},
     "output_type": "execute_result"
    }
   ],
   "source": [
    "ord('h')-ord('a')"
   ]
  },
  {
   "cell_type": "markdown",
   "id": "2d465f23",
   "metadata": {},
   "source": [
    "# Write a Function that will check weather a given String is pangram or not\n"
   ]
  },
  {
   "cell_type": "code",
   "execution_count": 25,
   "id": "f52d0bd7",
   "metadata": {},
   "outputs": [
    {
     "data": {
      "text/plain": [
       "'Panagram'"
      ]
     },
     "execution_count": 25,
     "metadata": {},
     "output_type": "execute_result"
    }
   ],
   "source": [
    "def panagram(s):\n",
    "    l=[]\n",
    "    for i in range(26):\n",
    "        l.append(False)\n",
    "    for i in s.lower():\n",
    "        if not i ==' ':\n",
    "            l[ord(i)-ord('a')]=True\n",
    "    for j in l:\n",
    "        if j==False:\n",
    "            return 'Not Panagram'\n",
    "    return 'Panagram'\n",
    "panagram(\"The quick brown fox jumps over the little lazy dog\")"
   ]
  },
  {
   "cell_type": "markdown",
   "id": "a707e5f1",
   "metadata": {},
   "source": [
    "# Write a Function that will check weather a given String is anagram or not\n"
   ]
  },
  {
   "cell_type": "code",
   "execution_count": 6,
   "id": "069050a5",
   "metadata": {},
   "outputs": [
    {
     "data": {
      "text/plain": [
       "'Not anagram'"
      ]
     },
     "execution_count": 6,
     "metadata": {},
     "output_type": "execute_result"
    }
   ],
   "source": [
    "def anagram(s1,s2):\n",
    "    if sorted(s1)==sorted(s2):\n",
    "        return 'Anagram'\n",
    "    else:\n",
    "        return 'Not anagram'\n",
    "anagram('race','care')"
   ]
  },
  {
   "cell_type": "markdown",
   "id": "8abde092",
   "metadata": {},
   "source": [
    "# Write a function that returns the number of prime numbers that exist up to and including a given number\n"
   ]
  },
  {
   "cell_type": "code",
   "execution_count": null,
   "id": "1e499f04",
   "metadata": {},
   "outputs": [],
   "source": []
  }
 ],
 "metadata": {
  "kernelspec": {
   "display_name": "Python 3",
   "language": "python",
   "name": "python3"
  },
  "language_info": {
   "codemirror_mode": {
    "name": "ipython",
    "version": 3
   },
   "file_extension": ".py",
   "mimetype": "text/x-python",
   "name": "python",
   "nbconvert_exporter": "python",
   "pygments_lexer": "ipython3",
   "version": "3.9.5"
  }
 },
 "nbformat": 4,
 "nbformat_minor": 5
}
