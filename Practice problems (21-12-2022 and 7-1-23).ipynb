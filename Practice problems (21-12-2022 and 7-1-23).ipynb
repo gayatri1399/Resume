{
 "cells": [
  {
   "cell_type": "markdown",
   "id": "bc956d2f",
   "metadata": {},
   "source": [
    "# Python program to check whether a given string is pallindrome or not"
   ]
  },
  {
   "cell_type": "markdown",
   "id": "df49410e",
   "metadata": {},
   "source": [
    "Palindrome means\n",
    "ABCDCBA---->original string\n",
    "ABCDCBA---->reverse string\n",
    "original= reverse\n",
    "palindrome string"
   ]
  },
  {
   "cell_type": "code",
   "execution_count": 1,
   "id": "d09ff75d",
   "metadata": {},
   "outputs": [
    {
     "name": "stdout",
     "output_type": "stream",
     "text": [
      "Enter a string:abba\n",
      "abba\n",
      "Give string is pallindrome\n"
     ]
    }
   ],
   "source": [
    "input1=input(\"Enter a string:\")\n",
    "reverse=\"\"\n",
    "for i in range(len(input1)-1,-1,-1):\n",
    "    reverse=reverse+input1[i]\n",
    "print(reverse)\n",
    "if input1==reverse:\n",
    "    print(\"Give string is pallindrome\")\n",
    "else:\n",
    "    print(\"Give string is not pallindrome\")"
   ]
  },
  {
   "cell_type": "code",
   "execution_count": 2,
   "id": "1223ba72",
   "metadata": {},
   "outputs": [
    {
     "name": "stdout",
     "output_type": "stream",
     "text": [
      "Enter a string:avva\n",
      "avva\n",
      "Give string is pallindrome\n"
     ]
    }
   ],
   "source": [
    "input1=input(\"Enter a string:\")\n",
    "reverse=input1[::-1]\n",
    "print(reverse)\n",
    "if input1==reverse:\n",
    "    print(\"Give string is pallindrome\")\n",
    "else:\n",
    "    print(\"Give string is not pallindrome\")"
   ]
  },
  {
   "cell_type": "code",
   "execution_count": 15,
   "id": "0c220aa8",
   "metadata": {},
   "outputs": [
    {
     "name": "stdout",
     "output_type": "stream",
     "text": [
      "Enter a string:mlk\n",
      "klm\n",
      "Give string is not pallindrome\n"
     ]
    }
   ],
   "source": [
    "input1=input(\"Enter a string:\")\n",
    "reverse=\"\"\n",
    "for i in range(-1,-len(input1)-1,-1):\n",
    "    reverse=reverse+input1[i]\n",
    "print(reverse)\n",
    "if input1==reverse:\n",
    "    print(\"Give string is pallindrome\")\n",
    "else:\n",
    "    print(\"Give string is not pallindrome\")"
   ]
  },
  {
   "cell_type": "markdown",
   "id": "dd134edb",
   "metadata": {},
   "source": [
    "# Python program to check whether a given string is anangram or not"
   ]
  },
  {
   "cell_type": "code",
   "execution_count": 18,
   "id": "44cbc360",
   "metadata": {},
   "outputs": [
    {
     "name": "stdout",
     "output_type": "stream",
     "text": [
      "Enter a string :heart\n",
      "Enter a second string :earth\n",
      "It is a anangram string\n"
     ]
    }
   ],
   "source": [
    "string_name=input(\"Enter a string :\")\n",
    "string_name2=input(\"Enter a second string :\")\n",
    "if sorted(string_name)==sorted(string_name2):\n",
    "    print(\"It is a anangram string\")\n",
    "else:\n",
    "    print(\"It is not an anangram string\")"
   ]
  },
  {
   "cell_type": "markdown",
   "id": "22836c4a",
   "metadata": {},
   "source": [
    "# Write a python program which iterates the integers from 1 to 50\n",
    "# For multiples of three print Fizz instead of the number and for the multiples of five print Buzz. For numbers which are multiples of both three and five print FizzBuzz"
   ]
  },
  {
   "cell_type": "code",
   "execution_count": 1,
   "id": "168098e9",
   "metadata": {},
   "outputs": [
    {
     "name": "stdout",
     "output_type": "stream",
     "text": [
      "Fizz\n",
      "Buzz\n",
      "Fizz\n",
      "Fizz\n",
      "Buzz\n",
      "Fizz\n",
      "Fizz\n",
      "Fizz\n",
      "Buzz\n",
      "Fizz\n",
      "Fizz\n",
      "Buzz\n",
      "Fizz\n",
      "Fizz\n",
      "Fizz\n",
      "Buzz\n",
      "Fizz\n",
      "Fizz\n",
      "Buzz\n",
      "Fizz\n",
      "Fizz\n",
      "Fizz\n"
     ]
    }
   ],
   "source": [
    "for i in range(1,50):\n",
    "    if i%3==0:\n",
    "        print(\"Fizz\")\n",
    "    elif i%5==0:\n",
    "        print(\"Buzz\")\n",
    "    elif i%3==0 and i%5==0:\n",
    "        print(\"FizzBuzz\")"
   ]
  },
  {
   "cell_type": "markdown",
   "id": "806f7b75",
   "metadata": {},
   "source": [
    "# Write a python program which will return all the different unique vowels that are persent in the given string.\n",
    "# Test case: 1 String may be in uppercase or lowercase\n",
    "# 2. Answer must given unqiue vowels list\n",
    "# 3. If any string is having n repeating characters then that characters will be considered only once"
   ]
  },
  {
   "cell_type": "code",
   "execution_count": 39,
   "id": "e9748abe",
   "metadata": {},
   "outputs": [
    {
     "name": "stdout",
     "output_type": "stream",
     "text": [
      "Enter a string :Gayatri vijay lakhotia\n"
     ]
    },
    {
     "data": {
      "text/plain": [
       "{'a', 'i', 'o'}"
      ]
     },
     "execution_count": 39,
     "metadata": {},
     "output_type": "execute_result"
    }
   ],
   "source": [
    "x=input(\"Enter a string :\").lower()\n",
    "set1=set(x)\n",
    "set2={'a','e','i','o','u'}\n",
    "set3=set1.intersection(set2)\n",
    "set3"
   ]
  },
  {
   "cell_type": "markdown",
   "id": "3440bb84",
   "metadata": {},
   "source": [
    "# Python program to find the ASCII value of the given charater"
   ]
  },
  {
   "cell_type": "code",
   "execution_count": 42,
   "id": "0fc7b1ff",
   "metadata": {},
   "outputs": [
    {
     "name": "stdout",
     "output_type": "stream",
     "text": [
      "Enter a string :abd\n",
      "97 98 100 "
     ]
    }
   ],
   "source": [
    "x=input(\"Enter a string :\")\n",
    "for i in x:\n",
    "    print(ord(i),end=\" \")"
   ]
  },
  {
   "cell_type": "markdown",
   "id": "6754f08c",
   "metadata": {},
   "source": [
    "# Python program to find the factors of the number "
   ]
  },
  {
   "cell_type": "code",
   "execution_count": 5,
   "id": "ddd3103e",
   "metadata": {},
   "outputs": [
    {
     "name": "stdout",
     "output_type": "stream",
     "text": [
      "Enter number:6\n",
      "1\n",
      "2\n",
      "3\n"
     ]
    }
   ],
   "source": [
    "x=int(input(\"Enter number:\"))\n",
    "for i in range(1,x):\n",
    "    if x%i==0:\n",
    "        print(i)"
   ]
  },
  {
   "cell_type": "markdown",
   "id": "7d0a0ad2",
   "metadata": {},
   "source": [
    "# Python program to check whether a given number is prime of not"
   ]
  },
  {
   "cell_type": "code",
   "execution_count": 64,
   "id": "9b600d94",
   "metadata": {},
   "outputs": [
    {
     "name": "stdout",
     "output_type": "stream",
     "text": [
      "Enter number :7\n",
      "Number is prime\n"
     ]
    }
   ],
   "source": [
    "x=int(input(\"Enter number :\"))\n",
    "if x==1:\n",
    "    print(\"1 is neither prime nor composite\")\n",
    "elif x>1:\n",
    "    for i in range(2,x):\n",
    "        if x%i==0:\n",
    "            print(\"Number is not prime\")\n",
    "            break\n",
    "    else:\n",
    "        print(\"Number is prime\")\n",
    "else:\n",
    "    print(\"It is prime number\")"
   ]
  },
  {
   "cell_type": "markdown",
   "id": "544813f4",
   "metadata": {},
   "source": [
    "# Check if two list have at least one element common or not"
   ]
  },
  {
   "cell_type": "code",
   "execution_count": 67,
   "id": "6aa3ba58",
   "metadata": {},
   "outputs": [
    {
     "name": "stdout",
     "output_type": "stream",
     "text": [
      "{2, 3, 4}\n",
      "True\n"
     ]
    }
   ],
   "source": [
    "a=[1,2,3,4]\n",
    "set1=set(a)\n",
    "b=[2,3,4,5]\n",
    "set2=set(b)\n",
    "set3=set1.intersection(set2)\n",
    "print(set3)\n",
    "if len(set3)>=1:\n",
    "    print(\"True\")\n",
    "else:\n",
    "    print(\"False\")"
   ]
  },
  {
   "cell_type": "markdown",
   "id": "50e0fa9e",
   "metadata": {},
   "source": [
    "# Python program to find second smallest number in a list"
   ]
  },
  {
   "cell_type": "code",
   "execution_count": 68,
   "id": "bdcf9680",
   "metadata": {},
   "outputs": [
    {
     "data": {
      "text/plain": [
       "10"
      ]
     },
     "execution_count": 68,
     "metadata": {},
     "output_type": "execute_result"
    }
   ],
   "source": [
    "list1=[10,20,4]\n",
    "list1.sort()\n",
    "list1[1]"
   ]
  },
  {
   "cell_type": "code",
   "execution_count": 69,
   "id": "9472f103",
   "metadata": {},
   "outputs": [
    {
     "data": {
      "text/plain": [
       "10"
      ]
     },
     "execution_count": 69,
     "metadata": {},
     "output_type": "execute_result"
    }
   ],
   "source": [
    "list1=[10,20,4]\n",
    "minimum=min(list1)\n",
    "list1.remove(minimum)\n",
    "min(list1)"
   ]
  },
  {
   "cell_type": "markdown",
   "id": "e806ca0b",
   "metadata": {},
   "source": [
    "# Python program to swap two element in a list"
   ]
  },
  {
   "cell_type": "code",
   "execution_count": null,
   "id": "44979ae7",
   "metadata": {},
   "outputs": [],
   "source": [
    "input1=[1,2,3,4,5] pos1=1 pos2=3\n",
    "output=[1,4,3,2,5]"
   ]
  },
  {
   "cell_type": "code",
   "execution_count": 70,
   "id": "e04409df",
   "metadata": {},
   "outputs": [
    {
     "data": {
      "text/plain": [
       "[1, 4, 3, 2, 5]"
      ]
     },
     "execution_count": 70,
     "metadata": {},
     "output_type": "execute_result"
    }
   ],
   "source": [
    "input1=[1,2,3,4,5]\n",
    "pos1=1\n",
    "pos=3\n",
    "input1[pos1],input1[pos]=input1[pos],input1[pos1]\n",
    "input1"
   ]
  },
  {
   "cell_type": "markdown",
   "id": "13b9b063",
   "metadata": {},
   "source": [
    "# Python program to interchange the first and last elements in a list"
   ]
  },
  {
   "cell_type": "code",
   "execution_count": 72,
   "id": "f422c56f",
   "metadata": {},
   "outputs": [
    {
     "data": {
      "text/plain": [
       "[5, 2, 3, 4, 1]"
      ]
     },
     "execution_count": 72,
     "metadata": {},
     "output_type": "execute_result"
    }
   ],
   "source": [
    "input1=[1,2,3,4,5]\n",
    "input1[-1],input1[0]=input1[0],input1[-1]\n",
    "input1"
   ]
  },
  {
   "cell_type": "markdown",
   "id": "5eefa733",
   "metadata": {},
   "source": [
    "# Python program to check whether a given number is perfect or not"
   ]
  },
  {
   "cell_type": "code",
   "execution_count": 80,
   "id": "b253af2f",
   "metadata": {},
   "outputs": [
    {
     "name": "stdout",
     "output_type": "stream",
     "text": [
      "Enter number:6\n",
      "[1, 2, 3]\n",
      "The number is perfect\n"
     ]
    }
   ],
   "source": [
    "x=int(input(\"Enter number:\"))\n",
    "y=[]\n",
    "for i in range(1,x):\n",
    "    if x%i==0:\n",
    "        y.append(i)\n",
    "print(y) \n",
    "if sum(y)==x:\n",
    "    print(\"The number is perfect\")\n",
    "else:\n",
    "    print(\"The number is not perfect\")"
   ]
  },
  {
   "cell_type": "code",
   "execution_count": 85,
   "id": "5d323357",
   "metadata": {},
   "outputs": [
    {
     "name": "stdout",
     "output_type": "stream",
     "text": [
      "Enter number:28\n",
      "The number is perfect\n"
     ]
    }
   ],
   "source": [
    "x=int(input(\"Enter number:\"))\n",
    "sum=0\n",
    "for i in range(1,x):\n",
    "    if x%i==0:\n",
    "        sum=sum+i \n",
    "if sum==x:\n",
    "    print(\"The number is perfect\")\n",
    "else:\n",
    "    print(\"The number is not perfect\")"
   ]
  },
  {
   "cell_type": "markdown",
   "id": "222441de",
   "metadata": {},
   "source": [
    "# Python program to print prime number between given range"
   ]
  },
  {
   "cell_type": "code",
   "execution_count": 87,
   "id": "52d97cf0",
   "metadata": {},
   "outputs": [
    {
     "name": "stdout",
     "output_type": "stream",
     "text": [
      "Enter number :10\n",
      "Enter number :20\n",
      "11\n",
      "13\n",
      "17\n",
      "19\n"
     ]
    }
   ],
   "source": [
    "start=int(input(\"Enter number :\"))\n",
    "end=int(input(\"Enter number :\"))\n",
    "for i in range(start,end):\n",
    "    if i==0 or i==1:\n",
    "        continue\n",
    "    else:\n",
    "        for j in range(2,i):\n",
    "            if i%j==0:\n",
    "                break\n",
    "        else:\n",
    "            print(i)\n",
    "        \n"
   ]
  },
  {
   "cell_type": "code",
   "execution_count": 10,
   "id": "975d545a",
   "metadata": {},
   "outputs": [
    {
     "name": "stdout",
     "output_type": "stream",
     "text": [
      "Enter a StringAPCD\n",
      "65\n",
      "80\n",
      "67\n",
      "68\n",
      "280\n"
     ]
    }
   ],
   "source": [
    "x=input(\"Enter a String\")\n",
    "sum=0\n",
    "for i in x:\n",
    "    y = ord(i)\n",
    "    sum=sum+y\n",
    "    print(y)\n",
    "print(sum)\n"
   ]
  },
  {
   "cell_type": "code",
   "execution_count": null,
   "id": "cb384ba5",
   "metadata": {},
   "outputs": [],
   "source": [
    "Python was created in 1991 by Guido Van Rossum\n",
    "Python is not faster than java\n",
    "Python is dynamic-True\n"
   ]
  },
  {
   "cell_type": "code",
   "execution_count": 1,
   "id": "766e9067",
   "metadata": {},
   "outputs": [
    {
     "data": {
      "text/plain": [
       "['False',\n",
       " 'None',\n",
       " 'True',\n",
       " '__peg_parser__',\n",
       " 'and',\n",
       " 'as',\n",
       " 'assert',\n",
       " 'async',\n",
       " 'await',\n",
       " 'break',\n",
       " 'class',\n",
       " 'continue',\n",
       " 'def',\n",
       " 'del',\n",
       " 'elif',\n",
       " 'else',\n",
       " 'except',\n",
       " 'finally',\n",
       " 'for',\n",
       " 'from',\n",
       " 'global',\n",
       " 'if',\n",
       " 'import',\n",
       " 'in',\n",
       " 'is',\n",
       " 'lambda',\n",
       " 'nonlocal',\n",
       " 'not',\n",
       " 'or',\n",
       " 'pass',\n",
       " 'raise',\n",
       " 'return',\n",
       " 'try',\n",
       " 'while',\n",
       " 'with',\n",
       " 'yield']"
      ]
     },
     "execution_count": 1,
     "metadata": {},
     "output_type": "execute_result"
    }
   ],
   "source": [
    "import keyword\n",
    "keyword.kwlist"
   ]
  },
  {
   "cell_type": "code",
   "execution_count": 2,
   "id": "bdb88d41",
   "metadata": {},
   "outputs": [
    {
     "data": {
      "text/plain": [
       "512"
      ]
     },
     "execution_count": 2,
     "metadata": {},
     "output_type": "execute_result"
    }
   ],
   "source": [
    "2**9"
   ]
  },
  {
   "cell_type": "code",
   "execution_count": 7,
   "id": "366c77db",
   "metadata": {},
   "outputs": [
    {
     "data": {
      "text/plain": [
       "64"
      ]
     },
     "execution_count": 7,
     "metadata": {},
     "output_type": "execute_result"
    }
   ],
   "source": [
    "8**2"
   ]
  },
  {
   "cell_type": "code",
   "execution_count": 10,
   "id": "4b86993b",
   "metadata": {},
   "outputs": [
    {
     "name": "stdout",
     "output_type": "stream",
     "text": [
      "1 \n",
      "2 2 \n",
      "3 3 3 \n",
      "4 4 4 4 \n",
      "5 5 5 5 5 \n",
      "6 6 6 6 6 6 \n",
      "7 7 7 7 7 7 7 \n",
      "8 8 8 8 8 8 8 8 \n",
      "9 9 9 9 9 9 9 9 9 \n",
      "10 10 10 10 10 10 10 10 10 10 \n"
     ]
    }
   ],
   "source": [
    "for i in range(1,11):\n",
    "    count=i\n",
    "    while count>0:\n",
    "        print(i,end=\" \")\n",
    "        count=count-1\n",
    "    print()"
   ]
  },
  {
   "cell_type": "code",
   "execution_count": 12,
   "id": "9831c856",
   "metadata": {},
   "outputs": [
    {
     "name": "stdout",
     "output_type": "stream",
     "text": [
      "15\n",
      "9\n",
      "3\n"
     ]
    }
   ],
   "source": [
    "for i in reversed(range(1,20,2)):\n",
    "    if i %3==0:\n",
    "        print(i)"
   ]
  },
  {
   "cell_type": "code",
   "execution_count": 8,
   "id": "4bddaf82",
   "metadata": {},
   "outputs": [
    {
     "name": "stdout",
     "output_type": "stream",
     "text": [
      "19\n",
      "17\n",
      "15\n",
      "13\n",
      "11\n",
      "9\n",
      "7\n",
      "5\n",
      "3\n",
      "1\n"
     ]
    }
   ],
   "source": [
    "for i in reversed(range(1,20,2)):\n",
    "    print(i)"
   ]
  },
  {
   "cell_type": "code",
   "execution_count": 12,
   "id": "c59d715b",
   "metadata": {},
   "outputs": [],
   "source": [
    "#Write a program to return the difference between the count of odd and even numbers"
   ]
  },
  {
   "cell_type": "code",
   "execution_count": 14,
   "id": "7445d7d5",
   "metadata": {},
   "outputs": [
    {
     "name": "stdout",
     "output_type": "stream",
     "text": [
      "Enter the number8\n",
      "10 20 30 40 55 66 77 83\n",
      "-2\n"
     ]
    }
   ],
   "source": [
    "n=int(input(\"Enter the number :\"))\n",
    "a=list(map(int,input().split()))\n",
    "even=0\n",
    "odd=0\n",
    "for i in a:\n",
    "    if i%2==0:\n",
    "        even=even+1\n",
    "    else:\n",
    "        odd=odd+1\n",
    "print(odd-even)\n",
    "    "
   ]
  },
  {
   "cell_type": "code",
   "execution_count": 15,
   "id": "37e56a7c",
   "metadata": {},
   "outputs": [
    {
     "data": {
      "text/plain": [
       "-2"
      ]
     },
     "execution_count": 15,
     "metadata": {},
     "output_type": "execute_result"
    }
   ],
   "source": [
    "def even_odd_diff(arr,n):\n",
    "    even=0\n",
    "    odd=0\n",
    "    for i in arr:\n",
    "        if i%2==0:\n",
    "            even=even+1\n",
    "        else:\n",
    "            odd=odd+1\n",
    "    return odd-even\n",
    "even_odd_diff([10,20,30,40,55,66,77,83],8)"
   ]
  },
  {
   "cell_type": "code",
   "execution_count": null,
   "id": "94d8f931",
   "metadata": {},
   "outputs": [],
   "source": [
    "# Write a program to find the difference between the elements at odd index and even index"
   ]
  },
  {
   "cell_type": "code",
   "execution_count": 24,
   "id": "3f807e6f",
   "metadata": {},
   "outputs": [
    {
     "data": {
      "text/plain": [
       "-40"
      ]
     },
     "execution_count": 24,
     "metadata": {},
     "output_type": "execute_result"
    }
   ],
   "source": [
    "def index(x):\n",
    "    sum_even=sum_odd=0\n",
    "    for i in range(len(x)):\n",
    "        if i%2==0:\n",
    "            sum_even+=x[i]\n",
    "        else:\n",
    "            sum_odd+=x[i]\n",
    "    return sum_odd-sum_even\n",
    "x=[10,20,30,40,50,60,70]\n",
    "index(x)"
   ]
  },
  {
   "cell_type": "code",
   "execution_count": 29,
   "id": "16a68708",
   "metadata": {},
   "outputs": [
    {
     "data": {
      "text/plain": [
       "-40"
      ]
     },
     "execution_count": 29,
     "metadata": {},
     "output_type": "execute_result"
    }
   ],
   "source": [
    "x=[10,20,30,40,50,60,70]\n",
    "y=x[0::2]\n",
    "z=x[1::2]\n",
    "sum(z)-sum(y)"
   ]
  },
  {
   "cell_type": "code",
   "execution_count": 25,
   "id": "9c990b38",
   "metadata": {},
   "outputs": [
    {
     "name": "stdout",
     "output_type": "stream",
     "text": [
      "-40\n"
     ]
    }
   ],
   "source": [
    "x=[10,20,30,40,50,60,70]\n",
    "sum_even=sum_odd=0\n",
    "for i in range(len(x)):\n",
    "    if i%2==0:\n",
    "        sum_even=sum_even+x[i]\n",
    "    else:\n",
    "        sum_odd=sum_odd+x[i]\n",
    "print(sum_odd-sum_even)"
   ]
  },
  {
   "cell_type": "code",
   "execution_count": null,
   "id": "285d31f9",
   "metadata": {},
   "outputs": [],
   "source": [
    "# a cloth merchant has some pieces"
   ]
  },
  {
   "cell_type": "code",
   "execution_count": 43,
   "id": "a0e5ccd0",
   "metadata": {},
   "outputs": [
    {
     "name": "stdout",
     "output_type": "stream",
     "text": [
      "9\n"
     ]
    }
   ],
   "source": [
    "x=[3,42,60,6,14]\n",
    "sum=0\n",
    "for i in x:\n",
    "    sum=sum+i//12\n",
    "print(sum)"
   ]
  },
  {
   "cell_type": "code",
   "execution_count": 46,
   "id": "ae92588a",
   "metadata": {},
   "outputs": [
    {
     "name": "stdout",
     "output_type": "stream",
     "text": [
      "9\n"
     ]
    }
   ],
   "source": [
    "x=[3,42,60,6,14]\n",
    "sum=0\n",
    "for i in range(len(x)):\n",
    "    sum=sum+x[i]//12\n",
    "print(sum)"
   ]
  },
  {
   "cell_type": "code",
   "execution_count": null,
   "id": "83400566",
   "metadata": {},
   "outputs": [],
   "source": [
    "# Write a program to merge characters of 2 strings"
   ]
  },
  {
   "cell_type": "code",
   "execution_count": 14,
   "id": "5ca9dd98",
   "metadata": {},
   "outputs": [
    {
     "data": {
      "text/plain": [
       "'CMAIRN'"
      ]
     },
     "execution_count": 14,
     "metadata": {},
     "output_type": "execute_result"
    }
   ],
   "source": [
    "s1='CAR'\n",
    "s2='MIN'\n",
    "x=list(map(lambda x,y:x+y,s1,s2))\n",
    "''.join(x)"
   ]
  },
  {
   "cell_type": "code",
   "execution_count": 55,
   "id": "0f1fcf63",
   "metadata": {},
   "outputs": [
    {
     "name": "stdout",
     "output_type": "stream",
     "text": [
      "CMAIRN\n"
     ]
    }
   ],
   "source": [
    "s1='CAR'\n",
    "s2='MIN'\n",
    "s3=''\n",
    "for i in range(len(s1)):\n",
    "    s3=s3+s1[i]+s2[i]\n",
    "print(s3)        "
   ]
  },
  {
   "cell_type": "code",
   "execution_count": null,
   "id": "6e59a7ca",
   "metadata": {},
   "outputs": [],
   "source": []
  },
  {
   "cell_type": "code",
   "execution_count": null,
   "id": "f1afffb1",
   "metadata": {},
   "outputs": [],
   "source": []
  },
  {
   "cell_type": "code",
   "execution_count": null,
   "id": "88d3bfdb",
   "metadata": {},
   "outputs": [],
   "source": []
  },
  {
   "cell_type": "code",
   "execution_count": null,
   "id": "19e02167",
   "metadata": {},
   "outputs": [],
   "source": []
  },
  {
   "cell_type": "code",
   "execution_count": null,
   "id": "34629d8b",
   "metadata": {},
   "outputs": [],
   "source": []
  }
 ],
 "metadata": {
  "kernelspec": {
   "display_name": "Python 3",
   "language": "python",
   "name": "python3"
  },
  "language_info": {
   "codemirror_mode": {
    "name": "ipython",
    "version": 3
   },
   "file_extension": ".py",
   "mimetype": "text/x-python",
   "name": "python",
   "nbconvert_exporter": "python",
   "pygments_lexer": "ipython3",
   "version": "3.9.5"
  }
 },
 "nbformat": 4,
 "nbformat_minor": 5
}
