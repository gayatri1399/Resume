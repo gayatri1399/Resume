{
 "cells": [
  {
   "cell_type": "markdown",
   "id": "e72164d5",
   "metadata": {},
   "source": [
    "# Operators "
   ]
  },
  {
   "cell_type": "markdown",
   "id": "29c8c85c",
   "metadata": {},
   "source": [
    "## Python program to add two numbers "
   ]
  },
  {
   "cell_type": "code",
   "execution_count": 2,
   "id": "e26e4a3d",
   "metadata": {},
   "outputs": [
    {
     "name": "stdout",
     "output_type": "stream",
     "text": [
      "Enter the first number :5\n",
      "Enter the second number :6\n",
      "The sum of two numbers is : 11\n"
     ]
    }
   ],
   "source": [
    "a=int(input(\"Enter the first number :\"))\n",
    "b=int(input(\"Enter the second number :\"))\n",
    "c=a+b\n",
    "print(\"The sum of two numbers is :\",c)"
   ]
  },
  {
   "cell_type": "markdown",
   "id": "84f1adda",
   "metadata": {},
   "source": [
    "## Python Program to Perform all arithmetic operations"
   ]
  },
  {
   "cell_type": "code",
   "execution_count": 4,
   "id": "36941518",
   "metadata": {},
   "outputs": [
    {
     "name": "stdout",
     "output_type": "stream",
     "text": [
      "Enter the first number :4\n",
      "Enter the second number :2\n",
      "The sum of two numbers is : 6\n",
      "The subtraction of two numbers is : 2\n",
      "The multiplication of two numbers is : 8\n",
      "The division of two numbers is : 2.0\n",
      "The floor division of two numbers is : 2\n",
      "The reminder of two numbers is : 0\n",
      "The power of two numbers is : 16\n"
     ]
    }
   ],
   "source": [
    "a=int(input(\"Enter the first number :\"))\n",
    "b=int(input(\"Enter the second number :\"))\n",
    "print(\"The sum of two numbers is :\",a+b)\n",
    "print(\"The subtraction of two numbers is :\",a-b)\n",
    "print(\"The multiplication of two numbers is :\",a*b)\n",
    "print(\"The division of two numbers is :\",a/b)\n",
    "print(\"The floor division of two numbers is :\",a//b)\n",
    "print(\"The reminder of two numbers is :\",a%b)\n",
    "print(\"The power of two numbers is :\",a**b)\n",
    "# Note: / division will always give you answer in floating point numbers.whereas if you are using\n",
    " # floor division then if atleast one operand is float then the answer will also be in float\n",
    " # else answer will always be Int."
   ]
  },
  {
   "cell_type": "markdown",
   "id": "0ed0518b",
   "metadata": {},
   "source": [
    "## Python Program to Perform all comparision or relational operations"
   ]
  },
  {
   "cell_type": "code",
   "execution_count": 6,
   "id": "34113123",
   "metadata": {},
   "outputs": [
    {
     "name": "stdout",
     "output_type": "stream",
     "text": [
      "Enter the first number :8\n",
      "Enter the second number :9\n",
      "a is not equal to b : True\n",
      "a is equal to b : False\n",
      "a is greater than b : False\n",
      "a is greater than equal to b : False\n",
      "a is less than b : True\n",
      "a is less than equal to b : True\n"
     ]
    }
   ],
   "source": [
    "a=int(input(\"Enter the first number :\"))\n",
    "b=int(input(\"Enter the second number :\"))\n",
    "print(\"a is not equal to b :\",a!=b)\n",
    "print(\"a is equal to b :\",a==b)\n",
    "print(\"a is greater than b :\",a>b)\n",
    "print(\"a is greater than equal to b :\",a>=b)\n",
    "print(\"a is less than b :\",a<b)\n",
    "print(\"a is less than equal to b :\",a<=b)"
   ]
  },
  {
   "cell_type": "markdown",
   "id": "b1731809",
   "metadata": {},
   "source": [
    "## Python program to check whether the given number is member of it or not(membership operator-in/not in)"
   ]
  },
  {
   "cell_type": "code",
   "execution_count": 21,
   "id": "5e8993aa",
   "metadata": {},
   "outputs": [
    {
     "name": "stdout",
     "output_type": "stream",
     "text": [
      "For tuple------->\n",
      "False\n",
      "True\n",
      "False\n",
      "False\n",
      "For list--------->\n",
      "False\n",
      "True\n",
      "False\n",
      "False\n",
      "For string--------->\n",
      "False\n",
      "False\n",
      "True\n",
      "True\n",
      "For set--------->\n",
      "False\n",
      "True\n",
      "False\n",
      "False\n",
      "For dictionary--------->\n",
      "False\n",
      "True\n",
      "False\n",
      "True\n"
     ]
    }
   ],
   "source": [
    "print(\"For tuple------->\")\n",
    "x=(10,20,30,40,50)\n",
    "print(70 in x)\n",
    "print(80 not in x)\n",
    "print(30 not in x)\n",
    "print(60 in x)\n",
    "print(\"For list--------->\")\n",
    "x=(10,20,30,40,50)\n",
    "print(70 in x)\n",
    "print(80 not in x)\n",
    "print(30 not in x)\n",
    "print(60 in x)\n",
    "print(\"For string--------->\")\n",
    "x=\"Python\"\n",
    "print('p' in x)\n",
    "print('o' not in x)\n",
    "print('G' not in x)\n",
    "print('P' in x)\n",
    "print(\"For set--------->\")\n",
    "x={10,20,30,40,50}\n",
    "print(70 in x)\n",
    "print(80 not in x)\n",
    "print(30 not in x)\n",
    "print(60 in x)\n",
    "print(\"For dictionary--------->\")\n",
    "x={10:20,30:40,50:60}\n",
    "print(70 in x)\n",
    "print(80 not in x)\n",
    "print(30 not in x)\n",
    "print(10 in x)"
   ]
  },
  {
   "cell_type": "markdown",
   "id": "ec3e2340",
   "metadata": {},
   "source": [
    "## Python program to check whether the given number is identical or not(identity operator-is/is not)"
   ]
  },
  {
   "cell_type": "code",
   "execution_count": 31,
   "id": "e8315f35",
   "metadata": {},
   "outputs": [
    {
     "name": "stdout",
     "output_type": "stream",
     "text": [
      "For integer------->\n",
      "True\n",
      "False\n",
      "For string------->\n",
      "True\n",
      "False\n",
      "For float------->\n",
      "False\n",
      "True\n",
      "For complex------->\n",
      "False\n",
      "True\n",
      "For bool------->\n",
      "True\n",
      "False\n",
      "True\n",
      "False\n"
     ]
    }
   ],
   "source": [
    "print(\"For integer------->\")\n",
    "a=5\n",
    "b=5\n",
    "print(a is b)\n",
    "print(a is not b)\n",
    "print(\"For string------->\")\n",
    "a=\"Python\"\n",
    "b=\"Python\"\n",
    "print(a is b)\n",
    "print(a is not b)\n",
    "print(\"For float------->\")\n",
    "a=5.2\n",
    "b=5.2\n",
    "print(a is b)\n",
    "print(a is not b)\n",
    "print(\"For complex------->\")\n",
    "a=5+12j\n",
    "b=5+12j\n",
    "print(a is b)\n",
    "print(a is not b)\n",
    "print(\"For bool------->\")\n",
    "a=True\n",
    "b=True\n",
    "print(a is b)\n",
    "print(a is not b)\n",
    "print(a==b)\n",
    "print(a!=b)\n",
    "# == is used for content comparision\n",
    "# is used for address comparision (the address for string and integer is same else for others it is different)"
   ]
  },
  {
   "cell_type": "markdown",
   "id": "b3642f80",
   "metadata": {},
   "source": [
    "## Python program logical operator (for boolean datatype)"
   ]
  },
  {
   "cell_type": "code",
   "execution_count": null,
   "id": "09de2d93",
   "metadata": {},
   "outputs": [],
   "source": [
    "# and --> if both arguments are True then the result is True else False\n",
    "# or --> If atleast one argument is True the answer is True else Answer is False\n",
    "# not --> complement --> if True is an argument then not of True is False else True"
   ]
  },
  {
   "cell_type": "code",
   "execution_count": 34,
   "id": "00917340",
   "metadata": {},
   "outputs": [
    {
     "name": "stdout",
     "output_type": "stream",
     "text": [
      "0\n",
      "True\n",
      "True\n"
     ]
    }
   ],
   "source": [
    "print(1 and 0)\n",
    "print(True or False)\n",
    "print(not 0)"
   ]
  },
  {
   "cell_type": "markdown",
   "id": "9d14c8de",
   "metadata": {},
   "source": [
    "## Python program for non boolean datatype the behaviour of logical Operator"
   ]
  },
  {
   "cell_type": "code",
   "execution_count": null,
   "id": "a55f6c67",
   "metadata": {},
   "outputs": [],
   "source": [
    "# x and y if x evalutes to False return x else return y\n",
    "# x or y if x evalutes to True return x else return y\n",
    "# Note:\n",
    "#  0, 0.0,0+0j,and emptystring --> False\n",
    "# rest all are True --> True"
   ]
  },
  {
   "cell_type": "code",
   "execution_count": 1,
   "id": "5e385fda",
   "metadata": {},
   "outputs": [
    {
     "name": "stdout",
     "output_type": "stream",
     "text": [
      "0j\n",
      "0\n",
      "world\n",
      "10\n",
      "10\n",
      "True\n",
      "False\n"
     ]
    }
   ],
   "source": [
    "print(0+0j and \"Hello\")\n",
    "print(\"Hello\" and 0)\n",
    "print(\"Hello\" and \"world\")\n",
    "print(0 or 10)\n",
    "print(10 or 0)\n",
    "print(not 0)\n",
    "print(not 1)"
   ]
  },
  {
   "cell_type": "markdown",
   "id": "d8664025",
   "metadata": {},
   "source": [
    "## Python Program for Program to find area of a circle"
   ]
  },
  {
   "cell_type": "code",
   "execution_count": 43,
   "id": "5f092a03",
   "metadata": {},
   "outputs": [
    {
     "name": "stdout",
     "output_type": "stream",
     "text": [
      "Enter the radius of circle :2\n",
      "Area of circle is : 25.12\n"
     ]
    }
   ],
   "source": [
    "r=int(input(\"Enter the radius of circle :\"))\n",
    "area=2*3.14*r**2\n",
    "print(\"Area of circle is :\",area)"
   ]
  },
  {
   "cell_type": "markdown",
   "id": "403bc054",
   "metadata": {},
   "source": [
    "## Python Program to find Area and Perimeter of Square and Rectangle"
   ]
  },
  {
   "cell_type": "code",
   "execution_count": 45,
   "id": "bfef55f1",
   "metadata": {},
   "outputs": [
    {
     "name": "stdout",
     "output_type": "stream",
     "text": [
      "Enter the length of square :5\n",
      "Area of square is : 25\n",
      "Perimeter of square is: 20\n",
      "Enter the length of rectangle :5\n",
      "Enter the breadth of rectangle :2\n",
      "Area of rectangle is : 10\n",
      "Perimeter of rectangle is: 14\n"
     ]
    }
   ],
   "source": [
    "length=int(input(\"Enter the length of square :\"))\n",
    "print(\"Area of square is :\",length**2)\n",
    "print(\"Perimeter of square is:\",4*length)\n",
    "l=int(input(\"Enter the length of rectangle :\"))\n",
    "b=int(input(\"Enter the breadth of rectangle :\"))\n",
    "print(\"Area of rectangle is :\",l*b)\n",
    "print(\"Perimeter of rectangle is:\",2*(l+b))"
   ]
  },
  {
   "cell_type": "markdown",
   "id": "616d3b06",
   "metadata": {},
   "source": [
    "## Python Program to find simple interest "
   ]
  },
  {
   "cell_type": "code",
   "execution_count": 47,
   "id": "b1a9d441",
   "metadata": {},
   "outputs": [
    {
     "name": "stdout",
     "output_type": "stream",
     "text": [
      "Enter principle amount :50000\n",
      "Enter the rate : 0.02\n",
      "Enter the Time in Years2\n",
      "20.0\n"
     ]
    }
   ],
   "source": [
    "principle = float(input(\"Enter principle amount :\"))\n",
    "rate = float(input(\"Enter the rate : \"))\n",
    "Time = float(input(\"Enter the Time in Years\"))\n",
    "Simple_Interest = (principle*rate*Time)//100\n",
    "print(float(Simple_Interest))"
   ]
  },
  {
   "cell_type": "markdown",
   "id": "27a2a50b",
   "metadata": {},
   "source": [
    "## Python Program to Find Compound Interest "
   ]
  },
  {
   "cell_type": "code",
   "execution_count": 48,
   "id": "59e49a6d",
   "metadata": {},
   "outputs": [
    {
     "name": "stdout",
     "output_type": "stream",
     "text": [
      "Enter principle amount :200000\n",
      "Enter the rate : 0.03\n",
      "Enter the Time in Years5\n",
      "number of times interest applied per time period1\n",
      "231854.81486\n"
     ]
    }
   ],
   "source": [
    "P = float(input(\"Enter principle amount :\"))\n",
    "r = float(input(\"Enter the rate : \"))\n",
    "t = float(input(\"Enter the Time in Years\"))\n",
    "n=float(input(\"number of times interest applied per time period\"))\n",
    "comp_int=P*(1+r/n)**(n*t)\n",
    "print(comp_int)"
   ]
  },
  {
   "cell_type": "markdown",
   "id": "018cdd08",
   "metadata": {},
   "source": [
    "## Python Program to Convert fahrenheit to celsius Temperature"
   ]
  },
  {
   "cell_type": "code",
   "execution_count": 50,
   "id": "1c447e81",
   "metadata": {},
   "outputs": [
    {
     "name": "stdout",
     "output_type": "stream",
     "text": [
      "Enter temperature fahrenheit :100\n",
      "The temperture in celsius is: 37.77777777777778\n"
     ]
    }
   ],
   "source": [
    "f = float(input(\"Enter temperature fahrenheit :\"))\n",
    "T= ((f - 32 )*5)/9\n",
    "print(\"The temperture in celsius is:\",T)"
   ]
  },
  {
   "cell_type": "code",
   "execution_count": null,
   "id": "a957d1a8",
   "metadata": {},
   "outputs": [],
   "source": []
  }
 ],
 "metadata": {
  "kernelspec": {
   "display_name": "Python 3",
   "language": "python",
   "name": "python3"
  },
  "language_info": {
   "codemirror_mode": {
    "name": "ipython",
    "version": 3
   },
   "file_extension": ".py",
   "mimetype": "text/x-python",
   "name": "python",
   "nbconvert_exporter": "python",
   "pygments_lexer": "ipython3",
   "version": "3.9.5"
  }
 },
 "nbformat": 4,
 "nbformat_minor": 5
}
