{
 "cells": [
  {
   "cell_type": "markdown",
   "id": "83d907f5",
   "metadata": {},
   "source": [
    "# Lambda function"
   ]
  },
  {
   "cell_type": "markdown",
   "id": "e097f930",
   "metadata": {},
   "source": [
    "# Write a Python program to create a lambda function that adds 15 to a given number passed in as an argument, also create a lambda function that multiplies argument x with argument y and print the result"
   ]
  },
  {
   "cell_type": "code",
   "execution_count": 3,
   "id": "1915c9e4",
   "metadata": {},
   "outputs": [
    {
     "name": "stdout",
     "output_type": "stream",
     "text": [
      "Enter the number :10\n",
      "The number got after adding 15 is : 25\n"
     ]
    }
   ],
   "source": [
    "x=int(input(\"Enter the number :\"))\n",
    "y=lambda x:x+15\n",
    "print(\"The number got after adding 15 is :\",y(x))"
   ]
  },
  {
   "cell_type": "code",
   "execution_count": 4,
   "id": "e87f7acf",
   "metadata": {},
   "outputs": [
    {
     "name": "stdout",
     "output_type": "stream",
     "text": [
      "Enter the number :10\n",
      "Enter the number :10\n",
      "The number after multiplying two arguments is : 100\n"
     ]
    }
   ],
   "source": [
    "x=int(input(\"Enter the number :\"))\n",
    "y=int(input(\"Enter the number :\"))\n",
    "z=lambda x,y:x*y\n",
    "print(\"The number after multiplying two arguments is :\",z(x,y))"
   ]
  },
  {
   "cell_type": "markdown",
   "id": "ee27c60c",
   "metadata": {},
   "source": [
    "# Write a Python program to sort a list of tuples using Lambda."
   ]
  },
  {
   "cell_type": "code",
   "execution_count": 1,
   "id": "f9e4200e",
   "metadata": {},
   "outputs": [
    {
     "name": "stdout",
     "output_type": "stream",
     "text": [
      "Enter the list :1,2,3,4,5,7,3,1\n",
      "[1, 1, 2, 3, 3, 4, 5, 7]\n"
     ]
    }
   ],
   "source": [
    "x=eval(input(\"Enter the list :\"))\n",
    "y=tuple(x)\n",
    "y=lambda x:sorted(x)\n",
    "print(y(x))"
   ]
  },
  {
   "cell_type": "code",
   "execution_count": 3,
   "id": "60e99151",
   "metadata": {},
   "outputs": [],
   "source": [
    "# Write a Python program to filter a list of integers using Lambda"
   ]
  },
  {
   "cell_type": "code",
   "execution_count": 15,
   "id": "c54680b8",
   "metadata": {},
   "outputs": [
    {
     "ename": "SyntaxError",
     "evalue": "invalid syntax (<ipython-input-15-9acefbadac65>, line 3)",
     "output_type": "error",
     "traceback": [
      "\u001b[1;36m  File \u001b[1;32m\"<ipython-input-15-9acefbadac65>\"\u001b[1;36m, line \u001b[1;32m3\u001b[0m\n\u001b[1;33m    y=list(filter(lambda x :x if type(x)=='int', x ))\u001b[0m\n\u001b[1;37m                                               ^\u001b[0m\n\u001b[1;31mSyntaxError\u001b[0m\u001b[1;31m:\u001b[0m invalid syntax\n"
     ]
    }
   ],
   "source": [
    "#x=eval(input(\"Enter the list :\"))\n",
    "x=[10,10.5,5,9,60]\n",
    "y=list(filter(lambda x :x if type(x)=='int', x ))\n",
    "print(y)"
   ]
  },
  {
   "cell_type": "markdown",
   "id": "2850bb12",
   "metadata": {},
   "source": [
    "# Write a Python program to square and cube every number in a given list of integers using Lambda"
   ]
  },
  {
   "cell_type": "code",
   "execution_count": 42,
   "id": "bc4e6e7c",
   "metadata": {},
   "outputs": [
    {
     "name": "stdout",
     "output_type": "stream",
     "text": [
      "[100, 121, 25, 81, 3600]\n",
      "[1000, 1331, 125, 729, 216000]\n"
     ]
    }
   ],
   "source": [
    "x=[10,11,5,9,60]\n",
    "y=list(map(lambda x:x**2,x))\n",
    "z=list(map(lambda x:x**3,x))\n",
    "print(y)\n",
    "print(z)"
   ]
  },
  {
   "cell_type": "markdown",
   "id": "930311a5",
   "metadata": {},
   "source": [
    "# Write a Python program to find if a given string starts with a given character using Lambda."
   ]
  },
  {
   "cell_type": "code",
   "execution_count": 46,
   "id": "fc372c2e",
   "metadata": {},
   "outputs": [
    {
     "name": "stdout",
     "output_type": "stream",
     "text": [
      "Enter the string :abcdf\n",
      "Enter the substring to find :fk\n",
      "False\n"
     ]
    }
   ],
   "source": [
    "x=input(\"Enter the string :\")\n",
    "y=input(\"Enter the substring to find :\")\n",
    "z=lambda x,y:x.startswith(y)\n",
    "print(z(x,y))"
   ]
  },
  {
   "cell_type": "markdown",
   "id": "e096e584",
   "metadata": {},
   "source": [
    "# Write a Python program to check whether a given string is number or not using Lambda"
   ]
  },
  {
   "cell_type": "code",
   "execution_count": 10,
   "id": "60c77026",
   "metadata": {},
   "outputs": [
    {
     "name": "stdout",
     "output_type": "stream",
     "text": [
      "Enter the stringdhnfkldj\n",
      "False\n"
     ]
    }
   ],
   "source": [
    "x=input('Enter the string')\n",
    "y=lambda x:x.isnumeric()\n",
    "print(y(x))"
   ]
  },
  {
   "cell_type": "markdown",
   "id": "de7a5d0c",
   "metadata": {},
   "source": [
    "# Write a Python program to find the values of length six in a given list using Lambda"
   ]
  },
  {
   "cell_type": "code",
   "execution_count": 10,
   "id": "5858c9a4",
   "metadata": {},
   "outputs": [
    {
     "name": "stdout",
     "output_type": "stream",
     "text": [
      "['Gauri', 'Savita', 'Vijay']\n"
     ]
    }
   ],
   "source": [
    "l=['Gayatri','Gauri','Savita','Vijay']\n",
    "y=list(filter(lambda x:len(x)<=6,l))\n",
    "print(y)"
   ]
  },
  {
   "cell_type": "markdown",
   "id": "936bc694",
   "metadata": {},
   "source": [
    "# Map function"
   ]
  },
  {
   "cell_type": "markdown",
   "id": "22e97ad1",
   "metadata": {},
   "source": [
    "# Write a Python program to triple all numbers of a given list of integers. Use Python map"
   ]
  },
  {
   "cell_type": "markdown",
   "id": "a85bf35b",
   "metadata": {},
   "source": [
    "# Write a Python program to add three given lists using Python map and lambda."
   ]
  },
  {
   "cell_type": "code",
   "execution_count": 22,
   "id": "73279350",
   "metadata": {},
   "outputs": [
    {
     "data": {
      "text/plain": [
       "[6, 9, 12, 15]"
      ]
     },
     "execution_count": 22,
     "metadata": {},
     "output_type": "execute_result"
    }
   ],
   "source": [
    "x=[1,2,3,4]\n",
    "y=[2,3,4,5]\n",
    "z=[3,4,5,6]\n",
    "p1=list(map(lambda x,y,z:x+y+z,x,y,z))\n",
    "p1"
   ]
  },
  {
   "cell_type": "code",
   "execution_count": null,
   "id": "f8050b2d",
   "metadata": {},
   "outputs": [],
   "source": [
    "# Write a Python program to listify the list of given strings individually using Python map"
   ]
  },
  {
   "cell_type": "markdown",
   "id": "86cf3e60",
   "metadata": {},
   "source": [
    "# Write a Python program to square the elements of a list using map() function"
   ]
  },
  {
   "cell_type": "code",
   "execution_count": 23,
   "id": "b7d316d1",
   "metadata": {},
   "outputs": [
    {
     "data": {
      "text/plain": [
       "[9, 16, 25, 36]"
      ]
     },
     "execution_count": 23,
     "metadata": {},
     "output_type": "execute_result"
    }
   ],
   "source": [
    "z=[3,4,5,6]\n",
    "p1=list(map(lambda x:x**2,z))\n",
    "p1"
   ]
  },
  {
   "cell_type": "markdown",
   "id": "b49c4454",
   "metadata": {},
   "source": [
    "# Write a Python program to add two given lists and find the difference between lists. Use map() function."
   ]
  },
  {
   "cell_type": "code",
   "execution_count": 24,
   "id": "9bb63017",
   "metadata": {},
   "outputs": [
    {
     "name": "stdout",
     "output_type": "stream",
     "text": [
      "[3, 5, 7, 9]\n",
      "[1, 1, 1, 1]\n"
     ]
    }
   ],
   "source": [
    "y=[2,3,4,5]\n",
    "z=[3,4,5,6]\n",
    "p1=list(map(lambda x,y:x+y,x,y))\n",
    "p2=list(map(lambda x,y:y-x,x,y))\n",
    "print(p1)\n",
    "print(p2)"
   ]
  },
  {
   "cell_type": "markdown",
   "id": "8f731c45",
   "metadata": {},
   "source": [
    "# Write a Python program to convert a given list of integers and a tuple of integers in a list of strings."
   ]
  },
  {
   "cell_type": "code",
   "execution_count": 29,
   "id": "a25550f0",
   "metadata": {},
   "outputs": [
    {
     "name": "stdout",
     "output_type": "stream",
     "text": [
      "['2', '3', '4', '5']\n",
      "('3', '4', '5', '6')\n"
     ]
    }
   ],
   "source": [
    "y=[2,3,4,5]\n",
    "z=(3,4,5,6)\n",
    "p1=list(map(lambda x:str(x),y))\n",
    "p2=tuple(map(lambda x:str(x),z))\n",
    "print(p1)\n",
    "print(p2)"
   ]
  },
  {
   "cell_type": "code",
   "execution_count": null,
   "id": "705b5d52",
   "metadata": {},
   "outputs": [],
   "source": [
    "# Filter function"
   ]
  },
  {
   "cell_type": "markdown",
   "id": "50d800a9",
   "metadata": {},
   "source": [
    "# Using filter function, filter the even numbers so that only odd numbers are passed to the new list."
   ]
  },
  {
   "cell_type": "code",
   "execution_count": 34,
   "id": "04b6e35f",
   "metadata": {},
   "outputs": [
    {
     "data": {
      "text/plain": [
       "[1, 3, 5, 7, 9]"
      ]
     },
     "execution_count": 34,
     "metadata": {},
     "output_type": "execute_result"
    }
   ],
   "source": [
    "a=list(range(1,10))\n",
    "even=list(filter(lambda x:x%2!=0,a))\n",
    "even"
   ]
  },
  {
   "cell_type": "markdown",
   "id": "613078ab",
   "metadata": {},
   "source": [
    "# Using filter() and list() functions and .lower() method filter all the vowels in a given string."
   ]
  },
  {
   "cell_type": "code",
   "execution_count": null,
   "id": "b0c40e02",
   "metadata": {},
   "outputs": [],
   "source": []
  },
  {
   "cell_type": "code",
   "execution_count": null,
   "id": "43c63031",
   "metadata": {},
   "outputs": [],
   "source": [
    "# Using filter() and list() functions filter all the positive integers in the string."
   ]
  },
  {
   "cell_type": "code",
   "execution_count": null,
   "id": "fe855fc8",
   "metadata": {},
   "outputs": [],
   "source": [
    "# Using map() and filter() functions add 2000 to the values below 8000. in the given list"
   ]
  }
 ],
 "metadata": {
  "kernelspec": {
   "display_name": "Python 3",
   "language": "python",
   "name": "python3"
  },
  "language_info": {
   "codemirror_mode": {
    "name": "ipython",
    "version": 3
   },
   "file_extension": ".py",
   "mimetype": "text/x-python",
   "name": "python",
   "nbconvert_exporter": "python",
   "pygments_lexer": "ipython3",
   "version": "3.9.5"
  }
 },
 "nbformat": 4,
 "nbformat_minor": 5
}
