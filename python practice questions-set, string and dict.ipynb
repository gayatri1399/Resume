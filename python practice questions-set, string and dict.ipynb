{
 "cells": [
  {
   "cell_type": "code",
   "execution_count": 1,
   "id": "0421d9bc",
   "metadata": {},
   "outputs": [],
   "source": [
    "# Find the size of a Set in Python"
   ]
  },
  {
   "cell_type": "code",
   "execution_count": 69,
   "id": "4f15db47",
   "metadata": {},
   "outputs": [
    {
     "name": "stdout",
     "output_type": "stream",
     "text": [
      "4\n"
     ]
    }
   ],
   "source": [
    "s={1,2,3,4}\n",
    "print(len(s))"
   ]
  },
  {
   "cell_type": "code",
   "execution_count": 2,
   "id": "ad4e3b8d",
   "metadata": {},
   "outputs": [],
   "source": [
    "# Iterate over a set in Python"
   ]
  },
  {
   "cell_type": "code",
   "execution_count": 3,
   "id": "bf56acec",
   "metadata": {},
   "outputs": [],
   "source": [
    "# Python – Maximum and Minimum in a Set"
   ]
  },
  {
   "cell_type": "code",
   "execution_count": 70,
   "id": "f1b4f666",
   "metadata": {},
   "outputs": [
    {
     "name": "stdout",
     "output_type": "stream",
     "text": [
      "4\n"
     ]
    }
   ],
   "source": [
    "s={1,2,3,4}\n",
    "print(max(s))"
   ]
  },
  {
   "cell_type": "code",
   "execution_count": 4,
   "id": "39ee707d",
   "metadata": {},
   "outputs": [],
   "source": [
    "# Python – Remove items from Set"
   ]
  },
  {
   "cell_type": "code",
   "execution_count": 5,
   "id": "5f45e07c",
   "metadata": {},
   "outputs": [],
   "source": [
    "# Python – Check if two lists have at-least one element common"
   ]
  },
  {
   "cell_type": "code",
   "execution_count": 6,
   "id": "5ba6a9e2",
   "metadata": {},
   "outputs": [],
   "source": [
    "# Python program to find common elements in three lists using sets"
   ]
  },
  {
   "cell_type": "code",
   "execution_count": 7,
   "id": "c4190505",
   "metadata": {},
   "outputs": [],
   "source": [
    "# Python program to find the difference between two lists"
   ]
  },
  {
   "cell_type": "code",
   "execution_count": 8,
   "id": "b2ec3a69",
   "metadata": {},
   "outputs": [],
   "source": [
    "# Python – Program to accept the strings which contains all vowels"
   ]
  },
  {
   "cell_type": "code",
   "execution_count": 9,
   "id": "578d425b",
   "metadata": {},
   "outputs": [],
   "source": [
    "# Python Set – Pairs of complete strings in two sets"
   ]
  },
  {
   "cell_type": "code",
   "execution_count": 10,
   "id": "e82e90b6",
   "metadata": {},
   "outputs": [],
   "source": [
    "# Python program to convert Set into Tuple and Tuple into Set"
   ]
  },
  {
   "cell_type": "code",
   "execution_count": 11,
   "id": "ba8edde7",
   "metadata": {},
   "outputs": [],
   "source": [
    "# Python program to convert set into a list"
   ]
  },
  {
   "cell_type": "code",
   "execution_count": 12,
   "id": "56c61387",
   "metadata": {},
   "outputs": [],
   "source": [
    "# Python program to convert Set to String"
   ]
  },
  {
   "cell_type": "code",
   "execution_count": 13,
   "id": "bfa17923",
   "metadata": {},
   "outputs": [],
   "source": [
    "# Python program to convert String to Set"
   ]
  },
  {
   "cell_type": "code",
   "execution_count": null,
   "id": "ab399bd1",
   "metadata": {},
   "outputs": [],
   "source": [
    "# String"
   ]
  },
  {
   "cell_type": "code",
   "execution_count": 14,
   "id": "3751fe94",
   "metadata": {},
   "outputs": [],
   "source": [
    "# Reverse words in a given String in Python"
   ]
  },
  {
   "cell_type": "code",
   "execution_count": 15,
   "id": "d5526e3c",
   "metadata": {},
   "outputs": [],
   "source": [
    "# Check weather Given the words are anangram or not"
   ]
  },
  {
   "cell_type": "code",
   "execution_count": 16,
   "id": "48082a2a",
   "metadata": {},
   "outputs": [],
   "source": [
    "# Write a Python program to calculate the length of a string"
   ]
  },
  {
   "cell_type": "code",
   "execution_count": 17,
   "id": "c4cef107",
   "metadata": {},
   "outputs": [],
   "source": [
    "# Write a Python program to get a string made of the first 2 and the last 2 chars from a given a string"
   ]
  },
  {
   "cell_type": "code",
   "execution_count": 18,
   "id": "adf5663c",
   "metadata": {},
   "outputs": [],
   "source": [
    "# Write a Python program to remove the nth index character from a nonempty string"
   ]
  },
  {
   "cell_type": "code",
   "execution_count": 19,
   "id": "feb113a5",
   "metadata": {},
   "outputs": [],
   "source": [
    "# Write a Python program to change a given string to a new string where the first and last chars have been exchanged"
   ]
  },
  {
   "cell_type": "code",
   "execution_count": 20,
   "id": "ba743ea3",
   "metadata": {},
   "outputs": [],
   "source": [
    "# Write a Python program to remove the characters which have odd index values of a given string."
   ]
  },
  {
   "cell_type": "code",
   "execution_count": 21,
   "id": "af3356fd",
   "metadata": {},
   "outputs": [],
   "source": [
    "# Write a Python script that takes input from the user and displays that input back in upper and lower cases"
   ]
  },
  {
   "cell_type": "code",
   "execution_count": 22,
   "id": "d1b15220",
   "metadata": {},
   "outputs": [],
   "source": [
    "# Write a Python function to reverses a string if it's length is a multiple of 4"
   ]
  },
  {
   "cell_type": "code",
   "execution_count": 23,
   "id": "13f22663",
   "metadata": {},
   "outputs": [],
   "source": [
    "# Write a Python program to check whether a string starts with specified characters"
   ]
  },
  {
   "cell_type": "code",
   "execution_count": 24,
   "id": "7f98cdf8",
   "metadata": {},
   "outputs": [],
   "source": [
    "# Write a Python program to print the index of the character in a string"
   ]
  },
  {
   "cell_type": "code",
   "execution_count": 25,
   "id": "0a39a54f",
   "metadata": {},
   "outputs": [],
   "source": [
    "# Write a Python program to check whether a string contains all letters of the alphabet"
   ]
  },
  {
   "cell_type": "code",
   "execution_count": 26,
   "id": "041b618f",
   "metadata": {},
   "outputs": [],
   "source": [
    "# Write a Python program to convert a given string into a list of words"
   ]
  },
  {
   "cell_type": "code",
   "execution_count": 27,
   "id": "010a2c14",
   "metadata": {},
   "outputs": [],
   "source": [
    "# Write a Python program to lowercase first n characters in a string"
   ]
  },
  {
   "cell_type": "code",
   "execution_count": 28,
   "id": "0222ff3f",
   "metadata": {},
   "outputs": [],
   "source": [
    "# Write a Python program to count and display the vowels of a given text"
   ]
  },
  {
   "cell_type": "code",
   "execution_count": 29,
   "id": "8e942f7f",
   "metadata": {},
   "outputs": [],
   "source": [
    "# Write a Python program to remove spaces from a given string"
   ]
  },
  {
   "cell_type": "code",
   "execution_count": 30,
   "id": "96ae81d5",
   "metadata": {},
   "outputs": [],
   "source": [
    "# Write a Python program to remove duplicate characters of a given string"
   ]
  },
  {
   "cell_type": "code",
   "execution_count": null,
   "id": "d087cc8a",
   "metadata": {},
   "outputs": [],
   "source": []
  },
  {
   "cell_type": "code",
   "execution_count": 31,
   "id": "e5e338de",
   "metadata": {},
   "outputs": [],
   "source": [
    "# Write a Python program find the common values that appear in two given strings"
   ]
  },
  {
   "cell_type": "code",
   "execution_count": 68,
   "id": "25523906",
   "metadata": {},
   "outputs": [
    {
     "name": "stdout",
     "output_type": "stream",
     "text": [
      "Enter the first string :gayatri\n",
      "Enter the second string :gauri\n",
      "{'g', 'a', 'i', 'r'}\n"
     ]
    }
   ],
   "source": [
    "x1=input(\"Enter the first string :\")\n",
    "x2=input(\"Enter the second string :\")\n",
    "y1=set(x1)\n",
    "y2=set(x2)\n",
    "print(y1.intersection(y2))"
   ]
  },
  {
   "cell_type": "code",
   "execution_count": 32,
   "id": "d519316a",
   "metadata": {},
   "outputs": [],
   "source": [
    "# Write a Python program to remove duplicate words from a given string"
   ]
  },
  {
   "cell_type": "code",
   "execution_count": 63,
   "id": "febb6db4",
   "metadata": {},
   "outputs": [
    {
     "name": "stdout",
     "output_type": "stream",
     "text": [
      "Enter the string :hfdlaioenclajfdhlh\n",
      "{'n', 'c', 'e', 'a', 'd', 'l', 'h', 'i', 'j', 'o', 'f'}\n"
     ]
    }
   ],
   "source": [
    "x=input(\"Enter the string :\")\n",
    "y=set(x)\n",
    "print(y)"
   ]
  },
  {
   "cell_type": "markdown",
   "id": "8f43c62e",
   "metadata": {},
   "source": [
    "# Dictionary"
   ]
  },
  {
   "cell_type": "code",
   "execution_count": 34,
   "id": "0b12db87",
   "metadata": {},
   "outputs": [],
   "source": [
    "# Merge two Python dictionaries into one"
   ]
  },
  {
   "cell_type": "code",
   "execution_count": 35,
   "id": "aa9ba79a",
   "metadata": {},
   "outputs": [],
   "source": [
    "# Extract all the keys from the Dictionary"
   ]
  },
  {
   "cell_type": "code",
   "execution_count": 56,
   "id": "647f814f",
   "metadata": {},
   "outputs": [
    {
     "data": {
      "text/plain": [
       "dict_keys([5, 7, 9, 11, 13])"
      ]
     },
     "execution_count": 56,
     "metadata": {},
     "output_type": "execute_result"
    }
   ],
   "source": [
    "d={5: 15, 7: 21, 9: 27, 11: 33, 13: 39}\n",
    "d.keys()"
   ]
  },
  {
   "cell_type": "code",
   "execution_count": 36,
   "id": "09bf2fc4",
   "metadata": {},
   "outputs": [],
   "source": [
    "# Extract all values from the Dictionary"
   ]
  },
  {
   "cell_type": "code",
   "execution_count": 57,
   "id": "82fedad5",
   "metadata": {},
   "outputs": [
    {
     "data": {
      "text/plain": [
       "dict_values([15, 21, 27, 33, 39])"
      ]
     },
     "execution_count": 57,
     "metadata": {},
     "output_type": "execute_result"
    }
   ],
   "source": [
    "d={5: 15, 7: 21, 9: 27, 11: 33, 13: 39}\n",
    "d.values()"
   ]
  },
  {
   "cell_type": "code",
   "execution_count": 37,
   "id": "6c8c8375",
   "metadata": {},
   "outputs": [],
   "source": [
    "# Extract Both and Key values pair From the Dictionary"
   ]
  },
  {
   "cell_type": "code",
   "execution_count": 58,
   "id": "0f4d2667",
   "metadata": {},
   "outputs": [
    {
     "data": {
      "text/plain": [
       "dict_items([(5, 15), (7, 21), (9, 27), (11, 33), (13, 39)])"
      ]
     },
     "execution_count": 58,
     "metadata": {},
     "output_type": "execute_result"
    }
   ],
   "source": [
    "d={5: 15, 7: 21, 9: 27, 11: 33, 13: 39}\n",
    "d.items()"
   ]
  },
  {
   "cell_type": "code",
   "execution_count": 38,
   "id": "62ef8a5d",
   "metadata": {},
   "outputs": [],
   "source": [
    "# Create Your own Dictionary Like This : d={1:2,2:3,3:4,4:5,5:6}"
   ]
  },
  {
   "cell_type": "code",
   "execution_count": 46,
   "id": "c08f2d64",
   "metadata": {},
   "outputs": [
    {
     "name": "stdout",
     "output_type": "stream",
     "text": [
      "{1: 2, 2: 3, 3: 4, 4: 5, 5: 6}\n"
     ]
    }
   ],
   "source": [
    "d={}\n",
    "for i in range(1,6):\n",
    "    d[i]=i+1\n",
    "print(d)"
   ]
  },
  {
   "cell_type": "code",
   "execution_count": 39,
   "id": "85d83260",
   "metadata": {},
   "outputs": [],
   "source": [
    "# Create Your own Dictionary Like This : d={2:4,3:6,4:8,5:10,6:12}"
   ]
  },
  {
   "cell_type": "code",
   "execution_count": 47,
   "id": "352e2bed",
   "metadata": {},
   "outputs": [
    {
     "name": "stdout",
     "output_type": "stream",
     "text": [
      "{2: 4, 3: 6, 4: 8, 5: 10, 6: 12}\n"
     ]
    }
   ],
   "source": [
    "d={}\n",
    "for i in range(2,7):\n",
    "    d[i]=i*2\n",
    "print(d)"
   ]
  },
  {
   "cell_type": "code",
   "execution_count": 40,
   "id": "488ece3a",
   "metadata": {},
   "outputs": [],
   "source": [
    "# Create Your own Dictionary Like This : d={2:4,4:8,6:12,8:16,10:20}"
   ]
  },
  {
   "cell_type": "code",
   "execution_count": 48,
   "id": "bf608baf",
   "metadata": {},
   "outputs": [
    {
     "name": "stdout",
     "output_type": "stream",
     "text": [
      "{2: 4, 4: 8, 6: 12, 8: 16, 10: 20}\n"
     ]
    }
   ],
   "source": [
    "d={}\n",
    "for i in range(2,11,2):\n",
    "    d[i]=i*2\n",
    "print(d)"
   ]
  },
  {
   "cell_type": "code",
   "execution_count": 41,
   "id": "df24541b",
   "metadata": {},
   "outputs": [],
   "source": [
    "# Create Your own Dictionary Like This : d={1:1,2:8,3:27,4:64,5:125}"
   ]
  },
  {
   "cell_type": "code",
   "execution_count": 49,
   "id": "a030de82",
   "metadata": {},
   "outputs": [
    {
     "name": "stdout",
     "output_type": "stream",
     "text": [
      "{1: 1, 2: 8, 3: 27, 4: 64, 5: 125}\n"
     ]
    }
   ],
   "source": [
    "d={}\n",
    "for i in range(1,6):\n",
    "    d[i]=i**3\n",
    "print(d)"
   ]
  },
  {
   "cell_type": "code",
   "execution_count": 42,
   "id": "d447f379",
   "metadata": {},
   "outputs": [],
   "source": [
    "# Create Your own Dictionary Like This : d={5:15,7:21 ,9:27, 11:33 , 13:39}"
   ]
  },
  {
   "cell_type": "code",
   "execution_count": 50,
   "id": "83434e7a",
   "metadata": {},
   "outputs": [
    {
     "name": "stdout",
     "output_type": "stream",
     "text": [
      "{5: 15, 7: 21, 9: 27, 11: 33, 13: 39}\n"
     ]
    }
   ],
   "source": [
    "d={}\n",
    "for i in range(5,14,2):\n",
    "    d[i]=i*3\n",
    "print(d)"
   ]
  },
  {
   "cell_type": "code",
   "execution_count": 43,
   "id": "0a47b2ad",
   "metadata": {},
   "outputs": [],
   "source": [
    "# Python program to find the size of a Dictionary"
   ]
  },
  {
   "cell_type": "code",
   "execution_count": 51,
   "id": "440a6991",
   "metadata": {},
   "outputs": [
    {
     "data": {
      "text/plain": [
       "5"
      ]
     },
     "execution_count": 51,
     "metadata": {},
     "output_type": "execute_result"
    }
   ],
   "source": [
    "d={5: 15, 7: 21, 9: 27, 11: 33, 13: 39}\n",
    "len(d)"
   ]
  },
  {
   "cell_type": "code",
   "execution_count": 44,
   "id": "a4e7f7e0",
   "metadata": {},
   "outputs": [],
   "source": [
    "# Python program to find the sum of all items in a dictionary"
   ]
  },
  {
   "cell_type": "code",
   "execution_count": 55,
   "id": "876359be",
   "metadata": {},
   "outputs": [
    {
     "data": {
      "text/plain": [
       "dict_items([(5, 15), (7, 21), (9, 27), (11, 33), (13, 39)])"
      ]
     },
     "execution_count": 55,
     "metadata": {},
     "output_type": "execute_result"
    }
   ],
   "source": [
    "d={5: 15, 7: 21, 9: 27, 11: 33, 13: 39}\n",
    "d.items()"
   ]
  },
  {
   "cell_type": "code",
   "execution_count": 45,
   "id": "78d15d6b",
   "metadata": {},
   "outputs": [],
   "source": [
    "# Write a Python script to sort (ascending and descending) a dictionary by value."
   ]
  },
  {
   "cell_type": "code",
   "execution_count": null,
   "id": "b518a179",
   "metadata": {},
   "outputs": [],
   "source": []
  }
 ],
 "metadata": {
  "kernelspec": {
   "display_name": "Python 3",
   "language": "python",
   "name": "python3"
  },
  "language_info": {
   "codemirror_mode": {
    "name": "ipython",
    "version": 3
   },
   "file_extension": ".py",
   "mimetype": "text/x-python",
   "name": "python",
   "nbconvert_exporter": "python",
   "pygments_lexer": "ipython3",
   "version": "3.9.5"
  }
 },
 "nbformat": 4,
 "nbformat_minor": 5
}
