{
 "cells": [
  {
   "cell_type": "markdown",
   "id": "68c21398",
   "metadata": {},
   "source": [
    "# Lists"
   ]
  },
  {
   "cell_type": "markdown",
   "id": "1253f375",
   "metadata": {},
   "source": [
    "# Python program to interchange first and last elements in a list"
   ]
  },
  {
   "cell_type": "code",
   "execution_count": null,
   "id": "899b9a94",
   "metadata": {},
   "outputs": [],
   "source": [
    "x=eval(input(\"Enter the list :\"))\n",
    "print(\"The original list is : \",x)\n",
    "x[0],x[-1]=x[-1],x[0]\n",
    "print(\"after interchange first and last elements the list is :\",x)"
   ]
  },
  {
   "cell_type": "markdown",
   "id": "e831af78",
   "metadata": {},
   "source": [
    "# Python program to swap two elements in a list"
   ]
  },
  {
   "cell_type": "code",
   "execution_count": null,
   "id": "2c972cd4",
   "metadata": {},
   "outputs": [],
   "source": [
    "x=int(input(\"Length of list :\"))\n",
    "l1=[]\n",
    "for i in range(x):\n",
    "    l=int(input(\"Enter the numbers in a list\"))\n",
    "    l1.append(l)\n",
    "print(l1)\n",
    "print(\"The original list is : \",l1)\n",
    "l1[2],l1[4]=l1[4],l1[2]\n",
    "print(\"after swapping the list is :\",l1)"
   ]
  },
  {
   "cell_type": "markdown",
   "id": "76194c1a",
   "metadata": {},
   "source": [
    "# Python Program to Swap elements in String list"
   ]
  },
  {
   "cell_type": "code",
   "execution_count": null,
   "id": "2f6a5616",
   "metadata": {},
   "outputs": [],
   "source": [
    "x=int(input(\"Length of list :\"))\n",
    "l1=\"\"\n",
    "for i in range(x):\n",
    "    l=input(\"Enter the string :\")\n",
    "    l1=l1+l\n",
    "#print(l1,end='')\n",
    "print(\"The original string is : \",l1)\n",
    "#l1[2],l1[4]=l1[4],l1[2]\n",
    "print(\"after swapping the string is :\",l1)"
   ]
  },
  {
   "cell_type": "markdown",
   "id": "f90b618e",
   "metadata": {},
   "source": [
    "# Python Program to find all the Ways for getting the length of list"
   ]
  },
  {
   "cell_type": "code",
   "execution_count": null,
   "id": "77973c49",
   "metadata": {},
   "outputs": [],
   "source": [
    "x=[4, 6, 8, 9, 2]\n",
    "count=0\n",
    "for i in range(len(x)):\n",
    "    count=count+1\n",
    "print(count)"
   ]
  },
  {
   "cell_type": "code",
   "execution_count": null,
   "id": "4c0da46d",
   "metadata": {},
   "outputs": [],
   "source": [
    "x=[4, 6, 8, 9, 2]\n",
    "len(x)"
   ]
  },
  {
   "cell_type": "markdown",
   "id": "80b6005e",
   "metadata": {},
   "source": [
    "# Python Program to check if element exists in list"
   ]
  },
  {
   "cell_type": "code",
   "execution_count": null,
   "id": "34d6300a",
   "metadata": {},
   "outputs": [],
   "source": [
    "x=[4, 6, 8, 9, 2]\n",
    "y=int(input(\"Enter the number :\"))\n",
    "if y in x:\n",
    "    print(\"True\")\n",
    "else:\n",
    "    print(\"False\")"
   ]
  },
  {
   "cell_type": "markdown",
   "id": "40fba3a8",
   "metadata": {},
   "source": [
    "# Python Program to clear a list in Python"
   ]
  },
  {
   "cell_type": "code",
   "execution_count": 4,
   "id": "858daa77",
   "metadata": {},
   "outputs": [
    {
     "data": {
      "text/plain": [
       "[]"
      ]
     },
     "execution_count": 4,
     "metadata": {},
     "output_type": "execute_result"
    }
   ],
   "source": [
    "x=[4, 6, 8, 9, 2]\n",
    "x.clear()\n",
    "x"
   ]
  },
  {
   "cell_type": "markdown",
   "id": "f1e2173d",
   "metadata": {},
   "source": [
    "# Python program to Reverse a List"
   ]
  },
  {
   "cell_type": "code",
   "execution_count": 5,
   "id": "86ab0896",
   "metadata": {},
   "outputs": [
    {
     "name": "stdout",
     "output_type": "stream",
     "text": [
      "[2, 9, 8, 6, 4]\n"
     ]
    }
   ],
   "source": [
    "x=[4, 6, 8, 9, 2]\n",
    "l1=[]\n",
    "for i in range(len(x)):\n",
    "    l1.append(x[-i-1])\n",
    "print(l1)"
   ]
  },
  {
   "cell_type": "code",
   "execution_count": null,
   "id": "2cca002a",
   "metadata": {},
   "outputs": [],
   "source": [
    "x=[4, 6, 8, 9, 2]\n",
    "x.reverse()\n",
    "print(x)"
   ]
  },
  {
   "cell_type": "code",
   "execution_count": 3,
   "id": "f50fc7d2",
   "metadata": {},
   "outputs": [
    {
     "data": {
      "text/plain": [
       "[2, 9, 8, 6, 4]"
      ]
     },
     "execution_count": 3,
     "metadata": {},
     "output_type": "execute_result"
    }
   ],
   "source": [
    "x=[4, 6, 8, 9, 2]\n",
    "x[::-1]"
   ]
  },
  {
   "cell_type": "code",
   "execution_count": 12,
   "id": "1cb20d5b",
   "metadata": {},
   "outputs": [
    {
     "data": {
      "text/plain": [
       "[2, 9, 8, 6, 4]"
      ]
     },
     "execution_count": 12,
     "metadata": {},
     "output_type": "execute_result"
    }
   ],
   "source": [
    "x=[4, 6, 8, 9, 2]\n",
    "x[len(x)-1::-1]"
   ]
  },
  {
   "cell_type": "markdown",
   "id": "2b617f68",
   "metadata": {},
   "source": [
    "# Python Program to Clone or Copy one list into another"
   ]
  },
  {
   "cell_type": "code",
   "execution_count": null,
   "id": "6ef94e41",
   "metadata": {},
   "outputs": [],
   "source": []
  },
  {
   "cell_type": "markdown",
   "id": "33528e7d",
   "metadata": {},
   "source": [
    "# Python Program to Count occurrences of an element in a list"
   ]
  },
  {
   "cell_type": "code",
   "execution_count": 9,
   "id": "37646c8d",
   "metadata": {},
   "outputs": [
    {
     "name": "stdout",
     "output_type": "stream",
     "text": [
      "Enter the number to find :4\n",
      "3\n"
     ]
    }
   ],
   "source": [
    "x=[1,2,3,4,5,6,2,3,4,2,3,4,5]\n",
    "y=int(input(\"Enter the number to find :\"))\n",
    "count=0\n",
    "for i in range(len(x)):\n",
    "    if x[i]==y:\n",
    "        count=count+1\n",
    "print(count)    "
   ]
  },
  {
   "cell_type": "markdown",
   "id": "f9c621ab",
   "metadata": {},
   "source": [
    "# Python Program to find sum and average of List in Python"
   ]
  },
  {
   "cell_type": "code",
   "execution_count": 5,
   "id": "ddf967f6",
   "metadata": {},
   "outputs": [
    {
     "name": "stdout",
     "output_type": "stream",
     "text": [
      "55\n",
      "5.5\n"
     ]
    }
   ],
   "source": [
    "x=[1,2,3,4,5,6,7,8,9,10]\n",
    "sum=0\n",
    "for i in range(len(x)):\n",
    "    sum=sum+x[i]\n",
    "print(sum)\n",
    "avg=sum/len(x)\n",
    "print(avg)"
   ]
  },
  {
   "cell_type": "markdown",
   "id": "eceef171",
   "metadata": {},
   "source": [
    "# Python Program to find the Sum of number digits in List"
   ]
  },
  {
   "cell_type": "code",
   "execution_count": 4,
   "id": "61367ec6",
   "metadata": {},
   "outputs": [
    {
     "name": "stdout",
     "output_type": "stream",
     "text": [
      "55\n"
     ]
    }
   ],
   "source": [
    "x=[1,2,3,4,5,6,7,8,9,10]\n",
    "sum=0\n",
    "for i in range(len(x)):\n",
    "    sum=sum+x[i]\n",
    "print(sum)"
   ]
  },
  {
   "cell_type": "markdown",
   "id": "3abcd5a3",
   "metadata": {},
   "source": [
    "# Python Program to Multiply all numbers in the list"
   ]
  },
  {
   "cell_type": "code",
   "execution_count": 14,
   "id": "d79afdb5",
   "metadata": {},
   "outputs": [
    {
     "name": "stdout",
     "output_type": "stream",
     "text": [
      "3628800\n"
     ]
    }
   ],
   "source": [
    "x=[1,2,3,4,5,6,7,8,9,10]\n",
    "prod=1\n",
    "for i in range(len(x)):\n",
    "    prod=prod*x[i]\n",
    "print(prod)"
   ]
  },
  {
   "cell_type": "markdown",
   "id": "a07d6036",
   "metadata": {},
   "source": [
    "# Python program to find smallest number in a list"
   ]
  },
  {
   "cell_type": "code",
   "execution_count": 22,
   "id": "57b9654d",
   "metadata": {},
   "outputs": [
    {
     "name": "stdout",
     "output_type": "stream",
     "text": [
      "1\n"
     ]
    }
   ],
   "source": [
    "x=[1,2,3,4,5,6,7,8,9,10]\n",
    "y=min(x)\n",
    "print(y)"
   ]
  },
  {
   "cell_type": "markdown",
   "id": "457fbeb1",
   "metadata": {},
   "source": [
    "# Python program to find largest number in a list"
   ]
  },
  {
   "cell_type": "code",
   "execution_count": 23,
   "id": "adb12a85",
   "metadata": {},
   "outputs": [
    {
     "name": "stdout",
     "output_type": "stream",
     "text": [
      "10\n"
     ]
    }
   ],
   "source": [
    "x=[1,2,3,4,5,6,7,8,9,10]\n",
    "y=max(x)\n",
    "print(y)"
   ]
  },
  {
   "cell_type": "markdown",
   "id": "1cbd2d55",
   "metadata": {},
   "source": [
    "# Python program to find second largest number in a list"
   ]
  },
  {
   "cell_type": "code",
   "execution_count": 30,
   "id": "09b59c81",
   "metadata": {},
   "outputs": [
    {
     "name": "stdout",
     "output_type": "stream",
     "text": [
      "10\n"
     ]
    }
   ],
   "source": [
    "x=[1,2,3,4,5,6,7,8,9,10,11]\n",
    "x.remove(max(x))\n",
    "y=max(x)\n",
    "print(y)"
   ]
  },
  {
   "cell_type": "markdown",
   "id": "4cb2e933",
   "metadata": {},
   "source": [
    "# Python program to print even numbers in a list"
   ]
  },
  {
   "cell_type": "code",
   "execution_count": 19,
   "id": "01858395",
   "metadata": {},
   "outputs": [
    {
     "name": "stdout",
     "output_type": "stream",
     "text": [
      "0\n",
      "2\n",
      "4\n",
      "6\n",
      "8\n"
     ]
    }
   ],
   "source": [
    "x=[1,2,3,4,5,6,7,8,9,10]\n",
    "for i in range(len(x)):\n",
    "    if i%2==0:\n",
    "        print(i)"
   ]
  },
  {
   "cell_type": "markdown",
   "id": "9c5a0347",
   "metadata": {},
   "source": [
    "# Python program to print odd numbers in a List"
   ]
  },
  {
   "cell_type": "code",
   "execution_count": 21,
   "id": "ef4e56e0",
   "metadata": {},
   "outputs": [
    {
     "name": "stdout",
     "output_type": "stream",
     "text": [
      "1\n",
      "3\n",
      "5\n",
      "7\n",
      "9\n"
     ]
    }
   ],
   "source": [
    "x=[1,2,3,4,5,6,7,8,9,10]\n",
    "for i in range(len(x)):\n",
    "    if i%2!=0:\n",
    "        print(i)"
   ]
  },
  {
   "cell_type": "markdown",
   "id": "1ee1eec1",
   "metadata": {},
   "source": [
    "# Python program to print all even numbers in a range"
   ]
  },
  {
   "cell_type": "code",
   "execution_count": 18,
   "id": "ef1df286",
   "metadata": {},
   "outputs": [
    {
     "name": "stdout",
     "output_type": "stream",
     "text": [
      "Enter the start :0\n",
      "Enter the end :10\n",
      "0\n",
      "2\n",
      "4\n",
      "6\n",
      "8\n",
      "10\n"
     ]
    }
   ],
   "source": [
    "x=int(input(\"Enter the start :\"))\n",
    "y=int(input(\"Enter the end :\"))\n",
    "for i in range(x,y+1):\n",
    "    if i %2==0:\n",
    "        print(i)"
   ]
  },
  {
   "cell_type": "markdown",
   "id": "8b3fcefc",
   "metadata": {},
   "source": [
    "# Python program to print all odd numbers in a range"
   ]
  },
  {
   "cell_type": "code",
   "execution_count": 15,
   "id": "1619bd85",
   "metadata": {},
   "outputs": [
    {
     "name": "stdout",
     "output_type": "stream",
     "text": [
      "Enter the start :0\n",
      "Enter the end :10\n",
      "1\n",
      "3\n",
      "5\n",
      "7\n",
      "9\n"
     ]
    }
   ],
   "source": [
    "x=int(input(\"Enter the start :\"))\n",
    "y=int(input(\"Enter the end :\"))\n",
    "for i in range(x,y+1):\n",
    "    if i %2!=0:\n",
    "        print(i)"
   ]
  },
  {
   "cell_type": "markdown",
   "id": "116f8043",
   "metadata": {},
   "source": [
    "# Python program to count Even and Odd numbers in a List"
   ]
  },
  {
   "cell_type": "code",
   "execution_count": 17,
   "id": "47990aec",
   "metadata": {},
   "outputs": [
    {
     "name": "stdout",
     "output_type": "stream",
     "text": [
      "5\n",
      "5\n"
     ]
    }
   ],
   "source": [
    "x=[1,2,3,4,5,6,7,8,9,10]\n",
    "even=0\n",
    "odd=0\n",
    "for i in range(len(x)):\n",
    "    if i%2==0:\n",
    "        even=even+1\n",
    "    else:\n",
    "        odd=odd+1\n",
    "print(even)\n",
    "print(odd)"
   ]
  },
  {
   "cell_type": "markdown",
   "id": "5777eac2",
   "metadata": {},
   "source": [
    "# Python program to print positive numbers in a list"
   ]
  },
  {
   "cell_type": "code",
   "execution_count": 17,
   "id": "af422861",
   "metadata": {},
   "outputs": [
    {
     "name": "stdout",
     "output_type": "stream",
     "text": [
      "1 2 3 4 5 6 7 8 9 10 5 "
     ]
    }
   ],
   "source": [
    "x=[1,2,3,4,5,6,7,8,9,10,-1,5,-6,-9,-8]\n",
    "for i in range(len(x)):\n",
    "    if x[i]>0:\n",
    "        print(x[i],end=' ')"
   ]
  },
  {
   "cell_type": "markdown",
   "id": "8bc17554",
   "metadata": {},
   "source": [
    "# Python program to print negative numbers in a list"
   ]
  },
  {
   "cell_type": "code",
   "execution_count": 18,
   "id": "2e74b834",
   "metadata": {},
   "outputs": [
    {
     "name": "stdout",
     "output_type": "stream",
     "text": [
      "-1 -6 -9 -8 "
     ]
    }
   ],
   "source": [
    "x=[1,2,3,4,5,6,7,8,9,10,-1,5,-6,-9,-8]\n",
    "for i in range(len(x)):\n",
    "    if x[i]<0:\n",
    "        print(x[i],end=' ')"
   ]
  },
  {
   "cell_type": "code",
   "execution_count": null,
   "id": "3c3cb0dd",
   "metadata": {},
   "outputs": [],
   "source": [
    "# Python program to print all positive numbers in a range"
   ]
  },
  {
   "cell_type": "code",
   "execution_count": null,
   "id": "f3a9af04",
   "metadata": {},
   "outputs": [],
   "source": [
    "# Python program to print all negative numbers in a range"
   ]
  },
  {
   "cell_type": "markdown",
   "id": "ede35709",
   "metadata": {},
   "source": [
    "# Python program to count positive and negative numbers in a list"
   ]
  },
  {
   "cell_type": "code",
   "execution_count": 20,
   "id": "f8aff9c7",
   "metadata": {},
   "outputs": [
    {
     "name": "stdout",
     "output_type": "stream",
     "text": [
      "6 4\n"
     ]
    }
   ],
   "source": [
    "x=[1,2,3,4,5,-1,5,-6,-9,-8]\n",
    "count_pos=0\n",
    "count_neg=0\n",
    "for i in range(len(x)):\n",
    "    if x[i]>0:\n",
    "        count_pos+=1\n",
    "    else:\n",
    "        count_neg+=1\n",
    "print(count_pos,count_neg)"
   ]
  },
  {
   "cell_type": "code",
   "execution_count": null,
   "id": "147f403f",
   "metadata": {},
   "outputs": [],
   "source": [
    "# Remove multiple elements from a list in Python"
   ]
  },
  {
   "cell_type": "code",
   "execution_count": null,
   "id": "70e393c1",
   "metadata": {},
   "outputs": [],
   "source": [
    "# Python Program to Remove empty tuples from a list"
   ]
  },
  {
   "cell_type": "code",
   "execution_count": null,
   "id": "7461edd1",
   "metadata": {},
   "outputs": [],
   "source": [
    "# Python Program to print duplicates from a list of integers"
   ]
  },
  {
   "cell_type": "code",
   "execution_count": null,
   "id": "e7ffb3a8",
   "metadata": {},
   "outputs": [],
   "source": [
    "# Tuple"
   ]
  },
  {
   "cell_type": "code",
   "execution_count": null,
   "id": "75298ca6",
   "metadata": {},
   "outputs": [],
   "source": [
    "# Python program to Find the size of a Tuple"
   ]
  },
  {
   "cell_type": "code",
   "execution_count": null,
   "id": "ca4f830e",
   "metadata": {},
   "outputs": [],
   "source": [
    "# Python – Adding Tuple to List and vice – versa"
   ]
  },
  {
   "cell_type": "code",
   "execution_count": null,
   "id": "6e6f3b19",
   "metadata": {},
   "outputs": [],
   "source": [
    "# Python – Sum of tuple elements"
   ]
  },
  {
   "cell_type": "code",
   "execution_count": null,
   "id": "99bc9974",
   "metadata": {},
   "outputs": [],
   "source": [
    "# Python – Modulo of tuple elements"
   ]
  },
  {
   "cell_type": "code",
   "execution_count": null,
   "id": "de31b3c7",
   "metadata": {},
   "outputs": [],
   "source": [
    "# Python – Removing duplicates from tuple"
   ]
  },
  {
   "cell_type": "code",
   "execution_count": null,
   "id": "07d02e41",
   "metadata": {},
   "outputs": [],
   "source": []
  }
 ],
 "metadata": {
  "kernelspec": {
   "display_name": "Python 3",
   "language": "python",
   "name": "python3"
  },
  "language_info": {
   "codemirror_mode": {
    "name": "ipython",
    "version": 3
   },
   "file_extension": ".py",
   "mimetype": "text/x-python",
   "name": "python",
   "nbconvert_exporter": "python",
   "pygments_lexer": "ipython3",
   "version": "3.9.5"
  }
 },
 "nbformat": 4,
 "nbformat_minor": 5
}
