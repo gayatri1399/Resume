{
 "cells": [
  {
   "cell_type": "markdown",
   "id": "e0cf34e4",
   "metadata": {},
   "source": [
    "# Create a Rectangle class and Perform Below Operations\n",
    "# 1. Write a Rectangle class in Python language, allowing you to build a rectangle with length and width attributes.\n",
    "# 2. Create a Perimeter() method to calculate the perimeter of the rectangle and a Area() method to calculate the area of the rectangle.\n",
    "# 3. Create a method display() that display the length, width, perimeter and area of an object created using an instantiation on rectangle class."
   ]
  },
  {
   "cell_type": "code",
   "execution_count": 16,
   "id": "c0e2db2a",
   "metadata": {},
   "outputs": [
    {
     "name": "stdout",
     "output_type": "stream",
     "text": [
      "The length is : 10\n",
      "The width is : 20\n",
      "The Perimeter is : 60\n",
      "The area is : 200\n",
      "\n",
      "***************************************************************************\n",
      "The area is  200\n",
      "***************************************************************************\n",
      "The Perimeter is : 60\n"
     ]
    }
   ],
   "source": [
    "class rectangle:\n",
    "    def __init__(self,length, width):\n",
    "        self.length=length\n",
    "        self.width=width\n",
    "        \n",
    "    def Perimeter(self):\n",
    "        p=2*(self.length+self.width)\n",
    "        return p\n",
    "    \n",
    "    def Area(self):\n",
    "        a= self.length*self.width\n",
    "        return a\n",
    "    \n",
    "    def display(self):\n",
    "        print('The length is :',self.length)\n",
    "        print('The width is :',self.width)\n",
    "        print('The Perimeter is :',self.Perimeter())\n",
    "        print('The area is :',self.Area())\n",
    "        return \"\"\n",
    "x=rectangle(10,20)\n",
    "print(x.display())\n",
    "print('*'*75)\n",
    "print(\"The area is \",x.Area())\n",
    "print('*'*75)\n",
    "print('The Perimeter is :',x.Perimeter())\n",
    "\n"
   ]
  },
  {
   "cell_type": "code",
   "execution_count": 26,
   "id": "6ae0d2f9",
   "metadata": {},
   "outputs": [
    {
     "name": "stdout",
     "output_type": "stream",
     "text": [
      "10\n",
      "10\n",
      "20\n",
      "300\n",
      "\n",
      "300\n",
      "20\n"
     ]
    }
   ],
   "source": [
    "class Test:\n",
    "    x=10 #public\n",
    "    __y=20 #private\n",
    "    _z=300 #protected\n",
    "    def m1(self):\n",
    "        print(Test.x)\n",
    "        print(Test.__y)\n",
    "        print(Test._z)\n",
    "        return ''\n",
    "a=Test()\n",
    "print(a.x)\n",
    "print(a.m1())\n",
    "print(a._z)\n",
    "print(a._Test__y)"
   ]
  },
  {
   "cell_type": "markdown",
   "id": "5e0a3fc7",
   "metadata": {},
   "source": [
    "# Create a Person class and child Student class and Perform Below Operations\n",
    "# Create a Python class Person with attributes: name and age of type string.\n",
    "# 1. Create a display() method that displays the name and age of an object created via the Person class\n",
    "# 2. Create a child class Student which inherits from the Person class and which also has a section attribute. Oops Create a method displayStudent() that displays the name, age and section of an object created via the Student class.\n",
    "# 3. Create a student object via an instantiation on the Student class and then test the displayStudent method."
   ]
  },
  {
   "cell_type": "code",
   "execution_count": 7,
   "id": "bca0281e",
   "metadata": {},
   "outputs": [
    {
     "ename": "IndentationError",
     "evalue": "expected an indented block (<ipython-input-7-8c3382752de0>, line 12)",
     "output_type": "error",
     "traceback": [
      "\u001b[1;36m  File \u001b[1;32m\"<ipython-input-7-8c3382752de0>\"\u001b[1;36m, line \u001b[1;32m12\u001b[0m\n\u001b[1;33m    obj=Student('gayatri','20')\u001b[0m\n\u001b[1;37m                               ^\u001b[0m\n\u001b[1;31mIndentationError\u001b[0m\u001b[1;31m:\u001b[0m expected an indented block\n"
     ]
    }
   ],
   "source": [
    "class Person:\n",
    "    def __init__(self,name,age):\n",
    "        self.name=name\n",
    "        self.age=age\n",
    "    def display(self):\n",
    "        print('The name is :',self.name)\n",
    "        print('The age is :',self.age)\n",
    "class Student(Person):\n",
    "    super().__init__()\n",
    "    def displayStudent(self):\n",
    "        \n",
    "obj=Student('gayatri','20')\n",
    "obj.displayStudent()"
   ]
  },
  {
   "cell_type": "markdown",
   "id": "be6afa7c",
   "metadata": {},
   "source": [
    "# Create a Bank Account class and Perform Below Operations\n",
    "# Create a Python class called BankAccount which represents a bank account, having as attributes: accountNumber (numeric type), name (name of the account owner as string type), balance.\n",
    "# 1. Create a constructor with parameters: accountNumber, name, balance.\n",
    "# 2. Create a Deposit() method which manages the deposit actions.\n",
    "# 3. Create a Withdrawal() method which manages withdrawals actions.\n",
    "# 4. Create an bankFees() method to apply the bank fees with a percentage of 5% of the balance account.\n",
    "# 5. Create a display() method to display account details.\n"
   ]
  },
  {
   "cell_type": "code",
   "execution_count": 6,
   "id": "351155bf",
   "metadata": {},
   "outputs": [
    {
     "name": "stdout",
     "output_type": "stream",
     "text": [
      "4654613\n",
      "5000\n",
      "Bank fees is : 250\n",
      "\n",
      "Balance after deposit is :  5500\n",
      "\n",
      "Balance after withdrawal is :  5000\n",
      "\n"
     ]
    }
   ],
   "source": [
    "class BankAccount:\n",
    "    def __init__(self,accnum,name,balance):\n",
    "        self.name=name\n",
    "        self.accnum=accnum\n",
    "        self.balance=balance\n",
    "    def deposit(self,amount):\n",
    "        self.balance=self.balance+amount\n",
    "        print('Balance after deposit is : ',self.balance)\n",
    "        return ''\n",
    "    def withdrawal(self,amount):\n",
    "        if self.balance<amount:\n",
    "            print('Insufficient balance')\n",
    "            sys.exit\n",
    "        self.balance=self.balance-amount\n",
    "        print('Balance after withdrawal is : ',self.balance)\n",
    "        return ''\n",
    "    def bankfees(self,percentage):\n",
    "        fees=self.balance*percentage//100\n",
    "        print('Bank fees is :',fees)\n",
    "        return ''\n",
    "obj=BankAccount('4654613','dhsakl',5000)   \n",
    "print(obj.accnum)\n",
    "print(obj.balance)\n",
    "print(obj.bankfees(5))\n",
    "print(obj.deposit(500))\n",
    "print(obj.withdrawal(500))"
   ]
  },
  {
   "cell_type": "markdown",
   "id": "cb2bbbf5",
   "metadata": {},
   "source": [
    "# Create a Book Class and performed Below Operations\n",
    "# Define a Book class with the following attributes: Title, Author (Full name), Price.\n",
    "# 1. Define a constructor used to initialize the attributes of the method with values entered by the user.\n",
    "# 2. Set the View() method to display information for the current book"
   ]
  },
  {
   "cell_type": "code",
   "execution_count": 2,
   "id": "e7dfffb8",
   "metadata": {},
   "outputs": [
    {
     "name": "stdout",
     "output_type": "stream",
     "text": [
      "The title of the book is : A\n",
      "The author of the book is : montogomery\n",
      "The price of the book is : 500\n"
     ]
    }
   ],
   "source": [
    "class book:\n",
    "    def __init__(self,title,author,price):\n",
    "        self.title=title\n",
    "        self.author=author\n",
    "        self.price=price\n",
    "    def view(self):\n",
    "        print('The title of the book is :',self.title)\n",
    "        print('The author of the book is :',self.author)\n",
    "        print('The price of the book is :',self.price)\n",
    "obj=book('A','montogomery',500)\n",
    "obj.view()"
   ]
  },
  {
   "cell_type": "code",
   "execution_count": null,
   "id": "246dd8ad",
   "metadata": {},
   "outputs": [],
   "source": []
  },
  {
   "cell_type": "code",
   "execution_count": null,
   "id": "ee3f4079",
   "metadata": {},
   "outputs": [],
   "source": []
  }
 ],
 "metadata": {
  "kernelspec": {
   "display_name": "Python 3",
   "language": "python",
   "name": "python3"
  },
  "language_info": {
   "codemirror_mode": {
    "name": "ipython",
    "version": 3
   },
   "file_extension": ".py",
   "mimetype": "text/x-python",
   "name": "python",
   "nbconvert_exporter": "python",
   "pygments_lexer": "ipython3",
   "version": "3.9.5"
  }
 },
 "nbformat": 4,
 "nbformat_minor": 5
}
