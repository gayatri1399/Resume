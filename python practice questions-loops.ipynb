{
 "cells": [
  {
   "cell_type": "markdown",
   "id": "ada18ecd",
   "metadata": {},
   "source": [
    "# Python Program for factorial of a number "
   ]
  },
  {
   "cell_type": "code",
   "execution_count": null,
   "id": "0cdfdc12",
   "metadata": {},
   "outputs": [],
   "source": [
    "x=int(input(\"Enter a number :\"))\n",
    "fact=1\n",
    "for i in range(1,x+1):\n",
    "    fact=fact*i\n",
    "print(\"The factorial of a given number \"+str(x)+\" is :\",fact)"
   ]
  },
  {
   "cell_type": "code",
   "execution_count": null,
   "id": "1571c694",
   "metadata": {},
   "outputs": [],
   "source": [
    "x=int(input(\"Enter a number :\"))\n",
    "fact=1\n",
    "i=1\n",
    "while i<=x:\n",
    "    fact=fact*i\n",
    "    i+=1\n",
    "print(\"The factorial of a given number \"+str(x)+\" is :\",fact)"
   ]
  },
  {
   "cell_type": "markdown",
   "id": "c3612f45",
   "metadata": {},
   "source": [
    "# Python Program to check Armstrong Number"
   ]
  },
  {
   "cell_type": "code",
   "execution_count": null,
   "id": "2987d2f2",
   "metadata": {},
   "outputs": [],
   "source": [
    "# The number is armstrong if 153=1^3+5^3+3^3=153"
   ]
  },
  {
   "cell_type": "code",
   "execution_count": null,
   "id": "1c00b910",
   "metadata": {},
   "outputs": [],
   "source": [
    "x=int(input(\"Enter a number :\"))\n",
    "y=x\n",
    "sum=0\n",
    "for i in range(1,x):\n",
    "    rem=x%10\n",
    "    sum=sum+rem**int(len(str(y)))\n",
    "    x=x//10\n",
    "print(sum)\n",
    "\n",
    "if sum==y:\n",
    "    print(\"The given number is armstrong\")\n",
    "else:\n",
    "    print(\"The given number is not armstrong\")"
   ]
  },
  {
   "cell_type": "code",
   "execution_count": null,
   "id": "34f69c7a",
   "metadata": {},
   "outputs": [],
   "source": [
    "x=int(input(\"Enter a number :\"))\n",
    "y=x\n",
    "sum=0\n",
    "\n",
    "while x!=0:\n",
    "    rem=x%10\n",
    "    sum=sum+rem**int(len(str(y)))\n",
    "    x=x//10\n",
    "    \n",
    "print(sum)\n",
    "\n",
    "if sum==y:\n",
    "    print(\"The given number is armstrong\")\n",
    "else:\n",
    "    print(\"The given number is not armstrong\")"
   ]
  },
  {
   "cell_type": "markdown",
   "id": "39069ce7",
   "metadata": {},
   "source": [
    "# Python program to print all Prime numbers in an Interval "
   ]
  },
  {
   "cell_type": "code",
   "execution_count": null,
   "id": "be0df7c5",
   "metadata": {},
   "outputs": [],
   "source": [
    "start=int(input(\"Enter a number :\"))\n",
    "end=int(input(\"Enter a number :\"))\n",
    "for i in range(start,end):\n",
    "    if i==0 or i==1:\n",
    "        continue\n",
    "    else:\n",
    "        for j in range(2,i):\n",
    "            if i%j==0:\n",
    "                break\n",
    "        else:\n",
    "            print(i)\n",
    "        "
   ]
  },
  {
   "cell_type": "markdown",
   "id": "f8b3750f",
   "metadata": {},
   "source": [
    "# Python program to check whether a number is Prime or not"
   ]
  },
  {
   "cell_type": "code",
   "execution_count": null,
   "id": "53f88500",
   "metadata": {},
   "outputs": [],
   "source": [
    "x=int(input(\"Enter a number :\"))\n",
    "if x==1:\n",
    "    print(\"The number is niether prime nor composite\")\n",
    "elif x>1:\n",
    "    for i in range(2,x):\n",
    "        if x%i==0:\n",
    "            print(\"The number is not prime\")\n",
    "            break\n",
    "    else:\n",
    "        print(\"The number is prime\")\n",
    "else:\n",
    "    print(\"The number is prime\")"
   ]
  },
  {
   "cell_type": "markdown",
   "id": "b13d996c",
   "metadata": {},
   "source": [
    "# Python Program for n-th Fibonacci number"
   ]
  },
  {
   "cell_type": "code",
   "execution_count": 26,
   "id": "e71471e1",
   "metadata": {},
   "outputs": [
    {
     "name": "stdout",
     "output_type": "stream",
     "text": [
      "Enter a number :26\n",
      "0\n",
      "1\n",
      "1\n",
      "2\n",
      "3\n",
      "5\n",
      "8\n",
      "13\n",
      "21\n",
      "34\n",
      "55\n",
      "89\n",
      "144\n",
      "233\n",
      "377\n",
      "610\n",
      "987\n",
      "1597\n",
      "2584\n",
      "4181\n",
      "6765\n",
      "10946\n",
      "17711\n",
      "28657\n",
      "46368\n",
      "75025\n"
     ]
    }
   ],
   "source": [
    "x=int(input(\"Enter a number :\"))\n",
    "a=0\n",
    "b=1\n",
    "if x<0:\n",
    "    print(\"Incorrect input\")\n",
    "elif x==1:\n",
    "    print(a)\n",
    "else:\n",
    "    print(a)\n",
    "    print(b)\n",
    "    for i in range(2,x):\n",
    "        c=a+b\n",
    "        print(c)\n",
    "        a=b\n",
    "        b=c"
   ]
  },
  {
   "cell_type": "code",
   "execution_count": 30,
   "id": "806b7e94",
   "metadata": {},
   "outputs": [
    {
     "name": "stdout",
     "output_type": "stream",
     "text": [
      "{'A': 0, 'B': 1, 'C': 1, 'D': 2, 'E': 3, 'F': 5, 'G': 8, 'H': 13, 'I': 21, 'J': 34, 'K': 55, 'L': 89, 'M': 144, 'N': 233, 'O': 377, 'P': 610, 'Q': 987, 'R': 1597, 'S': 2584, 'T': 4181, 'U': 6765, 'V': 10946, 'W': 17711, 'X': 28657, 'Y': 46368, 'Z': 75025}\n"
     ]
    },
    {
     "data": {
      "text/plain": [
       "76622"
      ]
     },
     "execution_count": 30,
     "metadata": {},
     "output_type": "execute_result"
    }
   ],
   "source": [
    "x=26\n",
    "a=0\n",
    "b=1\n",
    "d={}\n",
    "if x<0:\n",
    "    print('incorrect input')\n",
    "else:\n",
    "    \n",
    "    d[chr(65)]=a\n",
    "    d[chr(66)]=b\n",
    "    for i in range(2,x):\n",
    "        c=a+b\n",
    "        d[chr(i+65)]=c\n",
    "        a=b\n",
    "        b=c        \n",
    "print(d)\n",
    "d['P']+d['Q']+d['Z']"
   ]
  },
  {
   "cell_type": "markdown",
   "id": "52574cea",
   "metadata": {},
   "source": [
    "# Python Program for How to check if a given number is Fibonacci number?"
   ]
  },
  {
   "cell_type": "code",
   "execution_count": 6,
   "id": "e12664d3",
   "metadata": {},
   "outputs": [
    {
     "name": "stdout",
     "output_type": "stream",
     "text": [
      "Enter a number :10\n",
      "Enter a number you want to check in series:14\n",
      "[0, 1, 1, 2, 3, 5, 8, 13, 21, 34]\n",
      "The given number is not in series\n"
     ]
    }
   ],
   "source": [
    "x=int(input(\"Enter a number :\"))\n",
    "num=int(input(\"Enter a number you want to check in series:\"))\n",
    "a=0\n",
    "b=1\n",
    "if x<0:\n",
    "    print(\"Incorrect input\")\n",
    "elif x==1:\n",
    "    print(a)\n",
    "else:\n",
    "    #print(a)\n",
    "    #print(b)\n",
    "    d=[a,b]\n",
    "    for i in range(2,x):\n",
    "        c=a+b\n",
    "        d.append(c)\n",
    "        a=b\n",
    "        b=c\n",
    "    print(d)\n",
    "    if num in d:\n",
    "        print('The given number is in series')\n",
    "    else:\n",
    "        print('The given number is not in series')\n",
    "\n"
   ]
  },
  {
   "cell_type": "markdown",
   "id": "406cfbed",
   "metadata": {},
   "source": [
    "# Python Program for n\\’th multiple of a number in Fibonacci Series"
   ]
  },
  {
   "cell_type": "code",
   "execution_count": null,
   "id": "04cbf900",
   "metadata": {},
   "outputs": [],
   "source": [
    "x=\"Hello World\"\n",
    "y=list(x)\n",
    "y[2:9]=[]\n",
    "y\n",
    "\"\".join(y)"
   ]
  },
  {
   "cell_type": "markdown",
   "id": "137a1eb7",
   "metadata": {},
   "source": [
    "# Python Program for Sum of squares of first n natural numbers"
   ]
  },
  {
   "cell_type": "code",
   "execution_count": null,
   "id": "cc3a8652",
   "metadata": {},
   "outputs": [],
   "source": [
    "x=int(input(\"Enter a number :\"))\n",
    "sum=0\n",
    "for i in range(1,x+1):\n",
    "    sum=sum+i**2\n",
    "print(sum)"
   ]
  },
  {
   "cell_type": "markdown",
   "id": "f2106674",
   "metadata": {},
   "source": [
    "# Python Program for cube sum of first n natural numbers "
   ]
  },
  {
   "cell_type": "code",
   "execution_count": null,
   "id": "48aeb429",
   "metadata": {},
   "outputs": [],
   "source": [
    "x=int(input(\"Enter a number :\"))\n",
    "sum=0\n",
    "for i in range(1,x+1):\n",
    "    sum=sum+i**3\n",
    "print(sum)"
   ]
  },
  {
   "cell_type": "markdown",
   "id": "4a6fe6af",
   "metadata": {},
   "source": [
    "# Write a Python program that prints all the numbers from 0 to 6 except 3 and 6"
   ]
  },
  {
   "cell_type": "code",
   "execution_count": null,
   "id": "56f19ce6",
   "metadata": {},
   "outputs": [],
   "source": [
    "start=int(input(\"Enter a number :\"))\n",
    "end=int(input(\"Enter a number :\"))\n",
    "for i in range(start,end+1):\n",
    "    if (i==3 or i==6):\n",
    "        continue\n",
    "    print(i,end=\" \")\n",
    "\n"
   ]
  },
  {
   "cell_type": "markdown",
   "id": "bd591a68",
   "metadata": {},
   "source": [
    "# Write a Python program which iterates the integers from 1 to 50. For multiples of three print \"Fizz\" instead of the number and for the multiples of five print \"Buzz\". For numbers which are multiples of both three and five print \"FizzBuzz\"."
   ]
  },
  {
   "cell_type": "code",
   "execution_count": null,
   "id": "0a42bd65",
   "metadata": {},
   "outputs": [],
   "source": [
    "for i in range(1,50):\n",
    "    if i%3==0:\n",
    "        print(\"Fizz\")\n",
    "    elif i%5==0:\n",
    "        print(\"Bizz\")\n",
    "    elif i%3==0 and i%5==0: \n",
    "        print(\"FizzBuzz\")"
   ]
  },
  {
   "cell_type": "markdown",
   "id": "a3f70ab1",
   "metadata": {},
   "source": [
    "# Write a Python program to reverse a number"
   ]
  },
  {
   "cell_type": "code",
   "execution_count": 49,
   "id": "4a82223a",
   "metadata": {},
   "outputs": [
    {
     "name": "stdout",
     "output_type": "stream",
     "text": [
      "Enter a number :5236\n",
      "6325\n"
     ]
    },
    {
     "data": {
      "text/plain": [
       "str"
      ]
     },
     "execution_count": 49,
     "metadata": {},
     "output_type": "execute_result"
    }
   ],
   "source": [
    "x=int(input(\"Enter a number :\"))\n",
    "rem=0\n",
    "l=\"\"\n",
    "for i in range(len(str(x))):\n",
    "    rem=x%10\n",
    "    l=l+str((rem))\n",
    "    x=x//10\n",
    "#l=int(l)\n",
    "print(l)\n",
    "#type(l)"
   ]
  },
  {
   "cell_type": "markdown",
   "id": "bacf5c34",
   "metadata": {},
   "source": [
    "# Write a program to print n natural number in descending order using a while loop."
   ]
  },
  {
   "cell_type": "code",
   "execution_count": null,
   "id": "4a76e7b2",
   "metadata": {},
   "outputs": [],
   "source": [
    "x=int(input(\"Enter a number :\"))\n",
    "i=x\n",
    "while i>=1:\n",
    "    print(i,end=\" \")\n",
    "    i=i-1"
   ]
  },
  {
   "cell_type": "code",
   "execution_count": 3,
   "id": "b1f66900",
   "metadata": {},
   "outputs": [
    {
     "name": "stdout",
     "output_type": "stream",
     "text": [
      "Enter a number :6\n",
      "6 5 4 3 2 1 "
     ]
    }
   ],
   "source": [
    "x=int(input(\"Enter a number :\"))\n",
    "for i in range(x,0,-1):\n",
    "    print(i,end=\" \")"
   ]
  },
  {
   "cell_type": "markdown",
   "id": "fd061318",
   "metadata": {},
   "source": [
    "# Write a program to display the first 7 multiples of 7."
   ]
  },
  {
   "cell_type": "code",
   "execution_count": null,
   "id": "97f6b3b8",
   "metadata": {},
   "outputs": [],
   "source": [
    "x=int(input(\"Enter a number :\"))\n",
    "for i in range(1,8):\n",
    "    prod=x*i\n",
    "    print(prod)"
   ]
  },
  {
   "cell_type": "markdown",
   "id": "b0e9b67b",
   "metadata": {},
   "source": [
    "# Write a program that appends the square of each number to a new list."
   ]
  },
  {
   "cell_type": "code",
   "execution_count": 29,
   "id": "fe4af21a",
   "metadata": {},
   "outputs": [
    {
     "name": "stdout",
     "output_type": "stream",
     "text": [
      "Enter a number :452\n",
      "[16, 25, 4]\n"
     ]
    }
   ],
   "source": [
    "x=int(input(\"Enter a number :\"))\n",
    "rem=0\n",
    "l1=[]\n",
    "for i in range(len(str(x))):\n",
    "    rem=x%10\n",
    "    l1.append(rem**2)\n",
    "    x=x//10\n",
    "print(l1[::-1])"
   ]
  },
  {
   "cell_type": "markdown",
   "id": "6204d2d4",
   "metadata": {},
   "source": [
    "# Write a program to print multiplication table of a given number"
   ]
  },
  {
   "cell_type": "code",
   "execution_count": 17,
   "id": "819cd289",
   "metadata": {},
   "outputs": [
    {
     "name": "stdout",
     "output_type": "stream",
     "text": [
      "Enter a number :50\n",
      " 50 * 1 = 50\n",
      " 50 * 2 = 100\n",
      " 50 * 3 = 150\n",
      " 50 * 4 = 200\n",
      " 50 * 5 = 250\n",
      " 50 * 6 = 300\n",
      " 50 * 7 = 350\n",
      " 50 * 8 = 400\n",
      " 50 * 9 = 450\n",
      " 50 * 10 = 500\n"
     ]
    }
   ],
   "source": [
    "x=int(input(\"Enter a number :\"))\n",
    "for i in range(1,11):\n",
    "    prod=x*i\n",
    "    print(\" \"+str(x)+\" * \" +str(i)+\" =\",prod)"
   ]
  },
  {
   "cell_type": "markdown",
   "id": "d081a8f9",
   "metadata": {},
   "source": [
    "# Count the total number of digits in a number"
   ]
  },
  {
   "cell_type": "code",
   "execution_count": null,
   "id": "96955591",
   "metadata": {},
   "outputs": [],
   "source": [
    "x=(input(\"Enter a number :\"))\n",
    "count=0\n",
    "for i in range(len(x)):\n",
    "    count=count+1\n",
    "\n",
    "print(count)"
   ]
  },
  {
   "cell_type": "markdown",
   "id": "b1c48103",
   "metadata": {},
   "source": [
    "# Write a program to display product of the digits of a number accepted from the user."
   ]
  },
  {
   "cell_type": "code",
   "execution_count": null,
   "id": "fa821499",
   "metadata": {},
   "outputs": [],
   "source": [
    "x=(input(\"Enter a number :\"))\n",
    "prod=1\n",
    "for i in range(len(x)):\n",
    "    prod=prod*int(x[i])\n",
    "\n",
    "print(prod)"
   ]
  },
  {
   "cell_type": "markdown",
   "id": "76810405",
   "metadata": {},
   "source": [
    "# Write a program to find the sum of the digits of a number accepted from user"
   ]
  },
  {
   "cell_type": "code",
   "execution_count": null,
   "id": "84e90930",
   "metadata": {},
   "outputs": [],
   "source": [
    "x=(input(\"Enter a number :\"))\n",
    "sum=0\n",
    "for i in range(len(x)):\n",
    "    sum=sum+int(x[i])\n",
    "\n",
    "print(sum)"
   ]
  },
  {
   "cell_type": "markdown",
   "id": "7bd3bd38",
   "metadata": {},
   "source": [
    "# Write a program to display sum of odd numbers and even numbers that fall between 12 and 37"
   ]
  },
  {
   "cell_type": "code",
   "execution_count": null,
   "id": "f0aa858d",
   "metadata": {},
   "outputs": [],
   "source": [
    "start=int(input(\"Enter a number :\"))\n",
    "end=int(input(\"Enter a number :\"))\n",
    "even=odd=0\n",
    "for i in range(start,end):\n",
    "    if i%2==0:\n",
    "        even=even+i\n",
    "    else:\n",
    "        odd=odd+i\n",
    "        \n",
    "print(even)\n",
    "print(odd)"
   ]
  },
  {
   "cell_type": "markdown",
   "id": "89ee988e",
   "metadata": {},
   "source": [
    "# Write a program to display all the numbers which are divisible by 11 but not by 2 between 100 and 500."
   ]
  },
  {
   "cell_type": "code",
   "execution_count": null,
   "id": "f0c168f3",
   "metadata": {},
   "outputs": [],
   "source": [
    "start=int(input(\"Enter a number :\"))\n",
    "end=int(input(\"Enter a number :\"))\n",
    "for i in range(start,end):\n",
    "    if i%2!=0 and i%11==0:\n",
    "        print(i)"
   ]
  },
  {
   "cell_type": "markdown",
   "id": "8f8ffc89",
   "metadata": {},
   "source": [
    "# Write a program to print numbers from 1 to 20 except multiple of 2 & 3."
   ]
  },
  {
   "cell_type": "code",
   "execution_count": null,
   "id": "66406c7e",
   "metadata": {},
   "outputs": [],
   "source": [
    "start=int(input(\"Enter a number :\"))\n",
    "end=int(input(\"Enter a number :\"))\n",
    "for i in range(start,end):\n",
    "    if i%2!=0 and i%3!=0:\n",
    "        print(i)"
   ]
  },
  {
   "cell_type": "markdown",
   "id": "2a754f1e",
   "metadata": {},
   "source": [
    "# Write a program to accept a number and check whether it is a perfect number or not."
   ]
  },
  {
   "cell_type": "code",
   "execution_count": 13,
   "id": "1ff0a471",
   "metadata": {},
   "outputs": [
    {
     "name": "stdout",
     "output_type": "stream",
     "text": [
      "Enter a number :6\n",
      "1\n",
      "2\n",
      "3\n",
      "The sum of factors is : 6\n",
      "The given number is perfect number\n"
     ]
    }
   ],
   "source": [
    "x=int(input(\"Enter a number :\"))\n",
    "y=[]\n",
    "sum=0\n",
    "for i in range(1,x):\n",
    "    if x%i==0:\n",
    "        print(i)\n",
    "        sum=sum+i\n",
    "print(\"The sum of factors is :\",sum)\n",
    "\n",
    "if sum==x:\n",
    "    print(\"The given number is perfect number\")\n",
    "else:\n",
    "    print(\"The given number is not perfect number\")"
   ]
  },
  {
   "cell_type": "markdown",
   "id": "60fbb383",
   "metadata": {},
   "source": [
    "# Write a program to accept a number and check whether it is a strong number or not"
   ]
  },
  {
   "cell_type": "code",
   "execution_count": null,
   "id": "2bb2e92d",
   "metadata": {},
   "outputs": [],
   "source": [
    "import math\n",
    "x=int(input(\"Enter a number :\"))\n",
    "y=x\n",
    "sum=0\n",
    "for i in range(len(str(x))):\n",
    "    rem=x%10\n",
    "    sum=sum+math.factorial(rem)\n",
    "    x=x//10\n",
    "print(sum)\n",
    "\n",
    "if sum==y:\n",
    "    print(\"The given number is strong\")\n",
    "else:\n",
    "    print(\"The given number is not strong\")\n",
    "    "
   ]
  },
  {
   "cell_type": "code",
   "execution_count": null,
   "id": "f6abcf77",
   "metadata": {},
   "outputs": [],
   "source": [
    "import math\n",
    "x=int(input(\"Enter a number :\"))\n",
    "y=x\n",
    "sum=0\n",
    "while x!=0:\n",
    "    rem=x%10\n",
    "    sum=sum+math.factorial(rem)\n",
    "    x=x//10\n",
    "print(sum)\n",
    "\n",
    "if sum==y:\n",
    "    print(\"The given number is strong\")\n",
    "else:\n",
    "    print(\"The given number is not strong\")"
   ]
  },
  {
   "cell_type": "markdown",
   "id": "72d2b6c7",
   "metadata": {},
   "source": [
    "# Python program to check whether a given string is pallindrome or not"
   ]
  },
  {
   "cell_type": "code",
   "execution_count": 7,
   "id": "df2cdcb9",
   "metadata": {},
   "outputs": [
    {
     "name": "stdout",
     "output_type": "stream",
     "text": [
      "Enter the string :abcd\n",
      "dcba\n",
      "Given string is not pallindrome\n"
     ]
    }
   ],
   "source": [
    "x=(input(\"Enter the string :\"))\n",
    "y=x\n",
    "string=''\n",
    "for i in range(len(x)-1,-1,-1):\n",
    "    string=string+x[i]\n",
    "print(string)    \n",
    "if y==string:\n",
    "    print(\"Given string is pallindrome\")\n",
    "else:\n",
    "    print(\"Given string is not pallindrome\")"
   ]
  },
  {
   "cell_type": "code",
   "execution_count": null,
   "id": "f1e6b406",
   "metadata": {},
   "outputs": [],
   "source": []
  }
 ],
 "metadata": {
  "kernelspec": {
   "display_name": "Python 3",
   "language": "python",
   "name": "python3"
  },
  "language_info": {
   "codemirror_mode": {
    "name": "ipython",
    "version": 3
   },
   "file_extension": ".py",
   "mimetype": "text/x-python",
   "name": "python",
   "nbconvert_exporter": "python",
   "pygments_lexer": "ipython3",
   "version": "3.9.5"
  }
 },
 "nbformat": 4,
 "nbformat_minor": 5
}
