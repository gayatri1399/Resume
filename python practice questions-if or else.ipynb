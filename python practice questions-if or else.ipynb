{
 "cells": [
  {
   "cell_type": "markdown",
   "id": "80b9346b",
   "metadata": {},
   "source": [
    "# Maximum of two numbers in Python "
   ]
  },
  {
   "cell_type": "code",
   "execution_count": null,
   "id": "5b9d9846",
   "metadata": {},
   "outputs": [],
   "source": [
    "a=int(input(\"Enter the first number :\"))\n",
    "b=int(input(\"Enter the second number :\"))\n",
    "if a>b:\n",
    "    print(\"a is greater\")\n",
    "else:\n",
    "    print(\"b is greater\")"
   ]
  },
  {
   "cell_type": "markdown",
   "id": "021852aa",
   "metadata": {},
   "source": [
    "# Write a Python Program for Generating a Report Card"
   ]
  },
  {
   "cell_type": "code",
   "execution_count": 5,
   "id": "45c0a41d",
   "metadata": {},
   "outputs": [
    {
     "name": "stdout",
     "output_type": "stream",
     "text": [
      "Enter the marks of maths :10\n",
      "Enter the marks of english :20\n",
      "Enter the marks of hindi :30\n",
      "Enter the marks of marathi :40\n",
      "Enter the marks of science :50\n",
      "Enter the marks of social science :60\n",
      "Best of 5 is:  [60, 50, 40, 30, 20]\n",
      "40.0\n",
      "C+ grade\n",
      "********************************Report card*****************************\n"
     ]
    }
   ],
   "source": [
    "maths=int(input(\"Enter the marks of maths :\"))\n",
    "english=int(input(\"Enter the marks of english :\"))\n",
    "hindi=int(input(\"Enter the marks of hindi :\"))\n",
    "marathi=int(input(\"Enter the marks of marathi :\"))\n",
    "science=int(input(\"Enter the marks of science :\"))\n",
    "s_science=int(input(\"Enter the marks of social science :\"))\n",
    "x=[maths,english,hindi,marathi,science,s_science]\n",
    "maximum=[]\n",
    "for i in range(len(x)-1):\n",
    "    maximum.append(max(x))\n",
    "    x.remove(max(x))\n",
    "print(\"Best of \"+str(len(maximum))+\" is: \",maximum)\n",
    "perc=(sum(maximum)/(len(maximum)*100))*100\n",
    "print(perc)\n",
    "\n",
    "if perc>75:\n",
    "    print(\"Pass with distinction\")\n",
    "elif perc>70 and perc<=75:\n",
    "    print(\"A+ grade\")\n",
    "elif perc>65 and perc<=70:\n",
    "    print(\"B+ grade\")\n",
    "elif perc>35 and perc<=65:\n",
    "    print(\"C+ grade\")\n",
    "elif perc<=35:\n",
    "    print(\"The student is failed\")\n",
    "\n",
    "print(\"********************************Report card*****************************\")\n"
   ]
  },
  {
   "cell_type": "markdown",
   "id": "38e8ea05",
   "metadata": {},
   "source": [
    "# Python program For Checking Leap Year or Not"
   ]
  },
  {
   "cell_type": "code",
   "execution_count": 4,
   "id": "6b3e99f6",
   "metadata": {},
   "outputs": [
    {
     "name": "stdout",
     "output_type": "stream",
     "text": [
      "Enter the year :1900\n",
      "The year is not leap year\n"
     ]
    }
   ],
   "source": [
    "year=int(input(\"Enter the year :\"))\n",
    "if year%400==0:\n",
    "    print(\"The year is leap year\")\n",
    "elif year%100==0:\n",
    "    print(\"The year is not leap year\")\n",
    "elif year%4==0:\n",
    "    print(\"The year is leap year\")\n",
    "else:\n",
    "    print(\"The given year is not leap year\")"
   ]
  },
  {
   "cell_type": "markdown",
   "id": "cdf6d2a0",
   "metadata": {},
   "source": [
    "# Python Program to Check weather a candidate Eligible for Vote or not"
   ]
  },
  {
   "cell_type": "code",
   "execution_count": 9,
   "id": "5bc77103",
   "metadata": {},
   "outputs": [
    {
     "name": "stdout",
     "output_type": "stream",
     "text": [
      "Enter the age of candidate :50\n",
      "Candidate is eligible for vote\n"
     ]
    }
   ],
   "source": [
    "age=int(input(\"Enter the age of candidate :\"))\n",
    "if age>=18:\n",
    "    print(\"Candidate is eligible for vote\")\n",
    "else:\n",
    "    print(\"Candidate is not eligible for vote\")"
   ]
  },
  {
   "cell_type": "markdown",
   "id": "6573a290",
   "metadata": {},
   "source": [
    "# Python program to check weather Given Number is Divisible by 7 or Not "
   ]
  },
  {
   "cell_type": "code",
   "execution_count": 12,
   "id": "9e2e0786",
   "metadata": {},
   "outputs": [
    {
     "name": "stdout",
     "output_type": "stream",
     "text": [
      "Enter the number :63\n",
      "The given number is divisible by 7\n"
     ]
    }
   ],
   "source": [
    "x=int(input(\"Enter the number :\"))\n",
    "if x%7==0:\n",
    "    print(\"The given number is divisible by 7\")\n",
    "else:\n",
    "    print(\"The given number is not divisible by 7\")"
   ]
  },
  {
   "cell_type": "markdown",
   "id": "03bdd836",
   "metadata": {},
   "source": [
    "# Python Program to check weather a given number is odd or Even"
   ]
  },
  {
   "cell_type": "code",
   "execution_count": 14,
   "id": "e731b86e",
   "metadata": {},
   "outputs": [
    {
     "name": "stdout",
     "output_type": "stream",
     "text": [
      "Enter the number :8\n",
      "The given number is even\n"
     ]
    }
   ],
   "source": [
    "x=int(input(\"Enter the number :\"))\n",
    "if x%2==0:\n",
    "    print(\"The given number is even\")\n",
    "else:\n",
    "    print(\"The given number is odd\")"
   ]
  },
  {
   "cell_type": "markdown",
   "id": "91589df2",
   "metadata": {},
   "source": [
    "# Write a program to display \"Hello\" if a number entered by user is a multiple of five , otherwise print \"Bye\". "
   ]
  },
  {
   "cell_type": "code",
   "execution_count": 16,
   "id": "0dde2391",
   "metadata": {},
   "outputs": [
    {
     "name": "stdout",
     "output_type": "stream",
     "text": [
      "Enter the number :15\n",
      "Hello\n"
     ]
    }
   ],
   "source": [
    "x=int(input(\"Enter the number :\"))\n",
    "if x%5==0:\n",
    "    print(\"Hello\")\n",
    "else:\n",
    "    print(\"Bye\")"
   ]
  },
  {
   "cell_type": "markdown",
   "id": "f0c65f8d",
   "metadata": {},
   "source": [
    "# Write a program to check whether the last digit of a number( entered by user ) is divisible by 3 or not. "
   ]
  },
  {
   "cell_type": "code",
   "execution_count": 19,
   "id": "4ad080fe",
   "metadata": {},
   "outputs": [
    {
     "name": "stdout",
     "output_type": "stream",
     "text": [
      "Enter the number :16\n",
      "6\n",
      "The last digit is divisible by 3\n"
     ]
    }
   ],
   "source": [
    "x=int(input(\"Enter the number :\"))\n",
    "y=x%10\n",
    "print(y)\n",
    "if y%3==0:\n",
    "    print(\"The last digit is divisible by 3\")\n",
    "else:\n",
    "    print(\"The last digit is not divisible by 3\")"
   ]
  },
  {
   "cell_type": "markdown",
   "id": "12889ab0",
   "metadata": {},
   "source": [
    "# Write a program to accept the cost price of a bike and display the road tax to be paid according to the following criteria :\n",
    " # Cost price (in Rs) Tax\n",
    " # > 100000 15 %\n",
    " # > 50000 and <= 100000 10%\n",
    " # <= 50000 5%"
   ]
  },
  {
   "cell_type": "code",
   "execution_count": 22,
   "id": "a5667edc",
   "metadata": {},
   "outputs": [
    {
     "name": "stdout",
     "output_type": "stream",
     "text": [
      "Enter the cost price :50063\n",
      "The road price for 50063 cost price is: 5006.3\n"
     ]
    }
   ],
   "source": [
    "x=int(input(\"Enter the cost price :\"))\n",
    "if x>100000:\n",
    "    road_price=x*0.15\n",
    "    print(\"The road price for \"+str(x)+\" cost price is:\",road_price)\n",
    "elif x<=100000 and x>50000:\n",
    "    road_price=x*0.1\n",
    "    print(\"The road price for \"+str(x)+\" cost price is:\", road_price)\n",
    "elif x<=50000:\n",
    "    road_price=x*0.05\n",
    "    print(\"The road price for \"+str(x)+\" cost price is:\", road_price)"
   ]
  },
  {
   "cell_type": "markdown",
   "id": "c2ca00ef",
   "metadata": {},
   "source": [
    "# Write a program to accept a number from 1 to 7 and display the name of the day like 1 for Sunday , 2 for Monday and so on. "
   ]
  },
  {
   "cell_type": "code",
   "execution_count": 23,
   "id": "20c33a09",
   "metadata": {},
   "outputs": [
    {
     "name": "stdout",
     "output_type": "stream",
     "text": [
      "Enter the number from 1 to 7 :5\n",
      "The day is Thursday\n"
     ]
    }
   ],
   "source": [
    "x=int(input(\"Enter the number from 1 to 7 :\"))\n",
    "if x>7:\n",
    "    print(\"Invalid input\")\n",
    "elif x==1:\n",
    "    print(\"The day is Sunday\")\n",
    "elif x==2:\n",
    "    print(\"The day is Monday\")\n",
    "elif x==3:\n",
    "    print(\"The day is Tuesday\")\n",
    "elif x==4:\n",
    "    print(\"The day is Wednesday\")\n",
    "elif x==5:\n",
    "    print(\"The day is Thursday\")\n",
    "elif x==6:\n",
    "    print(\"The day is Friday\")\n",
    "elif x==7:\n",
    "    print(\"The day is Saturday\")\n"
   ]
  },
  {
   "cell_type": "markdown",
   "id": "89b2d44a",
   "metadata": {},
   "source": [
    "# Write a program to find the lowest number out of two numbers excepted from user. "
   ]
  },
  {
   "cell_type": "code",
   "execution_count": 53,
   "id": "c81ed8a0",
   "metadata": {},
   "outputs": [
    {
     "name": "stdout",
     "output_type": "stream",
     "text": [
      "Enter the number :5\n",
      "Enter the number :9\n",
      "The lowest number is : 5\n"
     ]
    }
   ],
   "source": [
    "x=int(input(\"Enter the number :\"))\n",
    "y=int(input(\"Enter the number :\"))\n",
    "print(\"The lowest number is :\",min(x,y))"
   ]
  },
  {
   "cell_type": "markdown",
   "id": "17b468e2",
   "metadata": {},
   "source": [
    "# Write a program to check a character is vowel or not."
   ]
  },
  {
   "cell_type": "code",
   "execution_count": 56,
   "id": "d17bb4b1",
   "metadata": {},
   "outputs": [
    {
     "name": "stdout",
     "output_type": "stream",
     "text": [
      "Enter a character :e\n",
      "The given character is vowel\n"
     ]
    }
   ],
   "source": [
    "x=['a','e','i','o','u']\n",
    "y=input(\"Enter a character :\").lower()\n",
    "if y in x:\n",
    "    print(\"The given character is vowel\")\n",
    "else:\n",
    "    print(\"The given character is consonant\")"
   ]
  },
  {
   "cell_type": "code",
   "execution_count": 28,
   "id": "21ea9939",
   "metadata": {},
   "outputs": [
    {
     "name": "stdout",
     "output_type": "stream",
     "text": [
      "[1, 2, 3, 4, 5, 6, 7, 8, 9, 10]\n"
     ]
    }
   ],
   "source": [
    "l1=[1,3,5,7,9]\n",
    "l2=[2,4,6,8,10]\n",
    "index=0\n",
    "for i in range(1,11,2):\n",
    "    l1.insert(i,l2[index])\n",
    "    index+=1\n",
    "print(l1)"
   ]
  },
  {
   "cell_type": "code",
   "execution_count": 31,
   "id": "119a61e0",
   "metadata": {},
   "outputs": [
    {
     "name": "stdout",
     "output_type": "stream",
     "text": [
      "2 5 8\n",
      "5\n"
     ]
    }
   ],
   "source": [
    "a,b,c=(1,2,3,4,5,6,7,8,9)[1::3]\n",
    "print(a,b,c)\n",
    "print(b)"
   ]
  },
  {
   "cell_type": "code",
   "execution_count": 33,
   "id": "cdd6388b",
   "metadata": {},
   "outputs": [
    {
     "data": {
      "text/plain": [
       "tuple"
      ]
     },
     "execution_count": 33,
     "metadata": {},
     "output_type": "execute_result"
    }
   ],
   "source": [
    "t=('foo',)\n",
    "type(t)"
   ]
  },
  {
   "cell_type": "code",
   "execution_count": 46,
   "id": "9185c15c",
   "metadata": {},
   "outputs": [
    {
     "data": {
      "text/plain": [
       "[1, 2, 4, 5]"
      ]
     },
     "execution_count": 46,
     "metadata": {},
     "output_type": "execute_result"
    }
   ],
   "source": [
    "a=[1,2,3,4,5]\n",
    "a[2:3]=[]\n",
    "a"
   ]
  },
  {
   "cell_type": "code",
   "execution_count": 39,
   "id": "b5d77c6c",
   "metadata": {},
   "outputs": [
    {
     "name": "stdout",
     "output_type": "stream",
     "text": [
      "[1, 2, 3, 4, 5, 6]\n"
     ]
    }
   ],
   "source": [
    "l1=[[1,2,3],[4,5,6]]\n",
    "l2=[]\n",
    "for list1 in l1:\n",
    "    l2.extend(list1)\n",
    "    \n",
    "print(l2)"
   ]
  },
  {
   "cell_type": "code",
   "execution_count": 40,
   "id": "cd6db738",
   "metadata": {},
   "outputs": [
    {
     "name": "stdout",
     "output_type": "stream",
     "text": [
      "['quux', 'baz', 'foo']\n"
     ]
    }
   ],
   "source": [
    "a=['foo','bar','baz','qux','quux','corge']\n",
    "print(a[4::-2])"
   ]
  },
  {
   "cell_type": "code",
   "execution_count": 19,
   "id": "81d9b00e",
   "metadata": {},
   "outputs": [
    {
     "name": "stdout",
     "output_type": "stream",
     "text": [
      "True\n"
     ]
    }
   ],
   "source": [
    "print(id(['a','b','jl'])==id(['c','a','b']))"
   ]
  }
 ],
 "metadata": {
  "kernelspec": {
   "display_name": "Python 3",
   "language": "python",
   "name": "python3"
  },
  "language_info": {
   "codemirror_mode": {
    "name": "ipython",
    "version": 3
   },
   "file_extension": ".py",
   "mimetype": "text/x-python",
   "name": "python",
   "nbconvert_exporter": "python",
   "pygments_lexer": "ipython3",
   "version": "3.9.5"
  }
 },
 "nbformat": 4,
 "nbformat_minor": 5
}
